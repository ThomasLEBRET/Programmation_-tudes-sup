{
 "cells": [
  {
   "cell_type": "markdown",
   "metadata": {
    "collapsed": false
   },
   "source": [
    "### Projet pluridisciplinaire\n",
    "\n",
    "# TP3 - Les fonctions en Sage et en Python\n",
    "\n",
    "Dans ce TP, le but est d'approfondir l'utilisation des **fonctions** en Python et en Sage.\n",
    "Ce sera l'occasion de voir l'utilisation de quelques commandes spécifiques à Sage\n",
    "qui permettent de résoudre de nombreuses équations.\n",
    "\n",
    "## Les fonctions mathématiques dans Sage\n",
    "\n",
    "Comme nous l'avons vu au 1er TP, Sage permet de définir simplement des\n",
    "fonctions mathématiques à l'aide d'expressions symboliques comme suit :"
   ]
  },
  {
   "cell_type": "code",
   "execution_count": 1,
   "metadata": {
    "collapsed": false
   },
   "outputs": [
    {
     "name": "stderr",
     "output_type": "stream",
     "text": [
      "WARNING: Some output was deleted.\n"
     ]
    }
   ],
   "source": [
    "f(x) = x^2\n",
    "plot(f)"
   ]
  },
  {
   "cell_type": "markdown",
   "metadata": {
    "collapsed": false
   },
   "source": [
    "Ces fonctions possèdent un certain nombre de méthodes (comme\n",
    "`integrate`, `derivative`, etc.) listées en tapant `f.` et tabulation."
   ]
  },
  {
   "cell_type": "code",
   "execution_count": 2,
   "metadata": {
    "collapsed": false
   },
   "outputs": [
    {
     "data": {
      "text/plain": [
       "x |--> 1/3*x^3"
      ]
     },
     "execution_count": 2,
     "metadata": {
     },
     "output_type": "execute_result"
    }
   ],
   "source": [
    "f.integrate(x)"
   ]
  },
  {
   "cell_type": "code",
   "execution_count": 3,
   "metadata": {
    "collapsed": false
   },
   "outputs": [
    {
     "data": {
      "text/plain": [
       "x |--> 2*x"
      ]
     },
     "execution_count": 3,
     "metadata": {
     },
     "output_type": "execute_result"
    }
   ],
   "source": [
    "f.derivative(x)"
   ]
  },
  {
   "cell_type": "markdown",
   "metadata": {
    "collapsed": false
   },
   "source": [
    "En particulier, il est possible d'obtenir le développement de Taylor à l'ordre $N$ d'une fonction à l'aide de la commande `taylor`.\n",
    "\n",
    "**Exécutez la cellule ci-dessous pour obtenir la documentation de la méthode et les exemples d'utilisations**."
   ]
  },
  {
   "cell_type": "code",
   "execution_count": 0,
   "metadata": {
    "collapsed": false
   },
   "outputs": [
   ],
   "source": [
    "f.taylor?"
   ]
  },
  {
   "cell_type": "markdown",
   "metadata": {
    "collapsed": false
   },
   "source": [
    "**Définissez une fonction $g$ non polynomiale, continue et dérivable en 0\n",
    "(par exemple $\\sin(x)$). Tracez cette fonction ainsi que son développement\n",
    "limité à l'ordre 1, 2 et 3 au voisinage de 0 (avec des couleurs différentes).**"
   ]
  },
  {
   "cell_type": "code",
   "execution_count": 107,
   "metadata": {
    "collapsed": false
   },
   "outputs": [
    {
     "data": {
      "text/plain": [
       "-1/6*x^3 + x"
      ]
     },
     "execution_count": 107,
     "metadata": {
     },
     "output_type": "execute_result"
    }
   ],
   "source": [
    "var('x')\n",
    "g = sin(x)\n",
    "g.taylor(x, 0, 3)"
   ]
  },
  {
   "cell_type": "markdown",
   "metadata": {
    "collapsed": false
   },
   "source": [
    "## Résolution d'équations\n",
    "\n",
    "Sage permet notamment de résoudre de manière exacte de nombreuses équations.\n",
    "Dans l'exemple ci-après, on considère une fonction polynomiale dont on\n",
    "cherche les racines. **Exécutez cet exemple.**\n"
   ]
  },
  {
   "cell_type": "code",
   "execution_count": 4,
   "metadata": {
    "collapsed": false
   },
   "outputs": [
    {
     "data": {
      "text/plain": [
       "[x == -1/6*(1/2)^(1/3)*(3*sqrt(31)*sqrt(3) + 29)^(1/3)*(I*sqrt(3) + 1) - 1/3*(1/2)^(2/3)*(-I*sqrt(3) + 1)/(3*sqrt(31)*sqrt(3) + 29)^(1/3) + 1/3, x == -1/6*(1/2)^(1/3)*(3*sqrt(31)*sqrt(3) + 29)^(1/3)*(-I*sqrt(3) + 1) - 1/3*(1/2)^(2/3)*(I*sqrt(3) + 1)/(3*sqrt(31)*sqrt(3) + 29)^(1/3) + 1/3, x == 1/3*(1/2)^(1/3)*(3*sqrt(31)*sqrt(3) + 29)^(1/3) + 2/3*(1/2)^(2/3)/(3*sqrt(31)*sqrt(3) + 29)^(1/3) + 1/3, x == -1]"
      ]
     },
     "execution_count": 4,
     "metadata": {
     },
     "output_type": "execute_result"
    }
   ],
   "source": [
    "f(x) = x^4 - x^2 - x - 1\n",
    "solve(f(x) == 0, x)"
   ]
  },
  {
   "cell_type": "markdown",
   "metadata": {
    "collapsed": false
   },
   "source": [
    "La fonction `solve` renvoie la liste des solutions de notre équation. Il est également possible de résoudre des systèmes d'équations (même non linéaires) comme suit : "
   ]
  },
  {
   "cell_type": "code",
   "execution_count": 5,
   "metadata": {
    "collapsed": false,
    "scrolled": true
   },
   "outputs": [
    {
     "data": {
      "text/plain": [
       "[[x1 == 0, x2 == 0, x3 == 0], [x1 == (4/5), x2 == (8/25), x3 == (28/25)]]"
      ]
     },
     "execution_count": 5,
     "metadata": {
     },
     "output_type": "execute_result"
    }
   ],
   "source": [
    "var('x1 x2 x3')\n",
    "solve([x1 + x2 - x3 == 0, x2 - x3 == -3 * x1^2 + x3, x3 == 6 * x2 - x1], x1, x2, x3)"
   ]
  },
  {
   "cell_type": "markdown",
   "metadata": {
    "collapsed": false
   },
   "source": [
    "**Remarque** : L'instruction initiale permet de définir symboliquement `x1`, `x2` et `x3`\n",
    "comme des inconnues. Elle est indispensable pour définir le système qu'on souhaite résoudre.\n",
    "\n",
    "**Donnez un système permettant de trouver le (ou les) points d'intersections de 2 cercles définis par :**\n",
    " * un cercle de centre $(0, 0)$ et de rayon 2\n",
    " * un cercle de centre $(0.5, 0.75)$ et de rayon 2.\n",
    "\n",
    "**Résolvez ce système.**\n",
    "\n",
    "**Tracez ces deux cercles ainsi que les points d'intersection (avec `point2d`)\n",
    "pour vérifier que la solution est correcte.** "
   ]
  },
  {
   "cell_type": "code",
   "execution_count": 0,
   "metadata": {
    "collapsed": false
   },
   "outputs": [
   ],
   "source": [
   ]
  },
  {
   "cell_type": "code",
   "execution_count": 11,
   "metadata": {
    "collapsed": false
   },
   "outputs": [
    {
     "data": {
      "image/png": "[encoded data removed]"
     }
    }
   ],
   "source": [
    "r = 2\n",
    "var('x y')\n",
    "z = solve([x^2 + y^2 == r^2, (x - 0.5)^2+ (y - 0.75)^2 == r^2 ], x, y, solution_dict=True)\n",
    "x1 = z[0][x]\n",
    "y1 = z[0][y]\n",
    "x2 = z[1][x]\n",
    "y2 = z[1][y]\n",
    "circle((0,0), r, color='red') + circle((0.5,0.75), r, color='blue') + point2d((x1,y1)) + point2d((x2, y2))"
   ]
  },
  {
   "cell_type": "code",
   "execution_count": 0,
   "metadata": {
    "collapsed": false
   },
   "outputs": [
   ],
   "source": [
   ]
  },
  {
   "cell_type": "markdown",
   "metadata": {
    "collapsed": false
   },
   "source": [
    "Si maintenant le deuxième cercle a pour centre $(3, 5)$ et toujours rayon 2,\n",
    "**tracez les cercles; voyez-vous un point d'intersection ?**\n",
    "\n",
    "*Remarque : les questions qui ne demandent pas de code sont là pour vous faire réfléchir,\n",
    "pas besoin d'écrire une réponse.*"
   ]
  },
  {
   "cell_type": "code",
   "execution_count": 9,
   "metadata": {
    "collapsed": false
   },
   "outputs": [
   ],
   "source": [
   ]
  },
  {
   "cell_type": "markdown",
   "metadata": {
    "collapsed": false
   },
   "source": [
    "**Résolvez l'équation formelle pour calculer les points d'intersection avec Sage.**\n",
    "\n",
    "Sage trouve des solutions, pourquoi ne les voit-on pas sur le dessin ?"
   ]
  },
  {
   "cell_type": "code",
   "execution_count": 10,
   "metadata": {
    "collapsed": false
   },
   "outputs": [
   ],
   "source": [
   ]
  },
  {
   "cell_type": "markdown",
   "metadata": {
    "collapsed": false
   },
   "source": [
    "A présent, **remplacez le deuxième cercle par une ellipse** (vous trouverez l'équation\n",
    "sur internet, on vous laisse libre dans le choix des paramètres). Comme tout à l'heure :\n",
    " * **Calculez avec le solveur formel les points d'intersection**.\n",
    " * **Tracez le cercle et l'ellipse ainsi que leurs points d'intersection**\n",
    "   (Sage a une fonction `ellipse`)."
   ]
  },
  {
   "cell_type": "code",
   "execution_count": 12,
   "metadata": {
    "collapsed": false
   },
   "outputs": [
    {
     "data": {
      "image/png": "[encoded data removed]"
     }
    }
   ],
   "source": [
    "r = 1\n",
    "var('x y')\n",
    "z = solve([x^2 + y^2 == r^2, (x/2)^2 + (y/1)^2 == 1], x, y, solution_dict=True)\n",
    "x1 = z[0][x]\n",
    "x2 = z[1][x]\n",
    "y1 = z[0][y]\n",
    "y2 = z[1][y]\n",
    "circle((0,0), 1, color='red') + ellipse((0,0),2,1, color='blue') + point2d((x1,y1)) + point2d((x2, y2))"
   ]
  },
  {
   "cell_type": "code",
   "execution_count": 3,
   "metadata": {
    "collapsed": false
   },
   "outputs": [
    {
     "data": {
      "image/png": "[encoded data removed]"
     }
    }
   ],
   "source": [
    "ellipse((0,0),2,1)"
   ]
  },
  {
   "cell_type": "markdown",
   "metadata": {
    "collapsed": false
   },
   "source": [
    "Par ailleurs, lorsque l'on cherche les solutions d'une équation de type\n",
    "$f(x, y) = 0$, on peut utiliser `implicit_plot` et voir sa solution de\n",
    "façon graphique.\n",
    "\n",
    "Ainsi, l'exemple suivant affiche tous les points $(x, y)$ tels que $x^2 - y^4 + 1 = 0$."
   ]
  },
  {
   "cell_type": "code",
   "execution_count": 6,
   "metadata": {
    "collapsed": false
   },
   "outputs": [
    {
     "data": {
      "image/png": "[encoded data removed]"
     },
     "output_type": "execute_result"
    }
   ],
   "source": [
    "var('y')\n",
    "f(x, y) = x^2 - y^4 + 1\n",
    "implicit_plot(f, (x, -4, 4), (y, -4, 4))"
   ]
  },
  {
   "cell_type": "markdown",
   "metadata": {
    "collapsed": false
   },
   "source": [
    "**Utilisez `implicit_plot` pour afficher un cercle de rayon 1.**"
   ]
  },
  {
   "cell_type": "code",
   "execution_count": 4,
   "metadata": {
    "collapsed": false
   },
   "outputs": [
    {
     "data": {
      "image/png": "[encoded data removed]"
     }
    }
   ],
   "source": [
    "var('x y')\n",
    "f(x, y) = x^2 + y^2 == 1\n",
    "implicit_plot(f, (x,-1,1), (y,-1,1))"
   ]
  },
  {
   "cell_type": "markdown",
   "metadata": {
    "collapsed": false
   },
   "source": [
    "Sage permet aussi de résoudre des équations différentielles. **Exécutez l'exemple suivant.**"
   ]
  },
  {
   "cell_type": "code",
   "execution_count": 5,
   "metadata": {
    "collapsed": false
   },
   "outputs": [
    {
     "name": "stdout",
     "output_type": "stream",
     "text": [
      "e^t\n"
     ]
    }
   ],
   "source": [
    "var('t')\n",
    "f = function('f')(t)\n",
    "equation_differentielle = (diff(f, t) == f)\n",
    "sol = desolve(equation_differentielle, f, ics=[0, 1])\n",
    "print(sol)"
   ]
  },
  {
   "cell_type": "markdown",
   "metadata": {
    "collapsed": false
   },
   "source": [
    "Expliquons un peu cet exemple. Ici, on commence par déclarer une variable $t$ et une fonction $f$ dépendant de $t$. La fonction $f(t)$ est ainsi définie symboliquement et on peut l'utiliser pour écrire notre équation différentielle. \n",
    "\n",
    "La fonction `diff(f,t)` permet de dériver $f$ par rapport à $t$. Pour obtenir une dérivée d'ordre supérieur, il suffit d'écrire `diff(f,t,2)` pour l'ordre 2 par exemple. De plus, le terme `ics` correspond à la définition des conditions initiales (Initial Conditions). La première valeur de la liste est la valeur initiale de $t$ et la seconde celle de $f(t)$.\n",
    "\n",
    "**Résolvez l'équation différentielle $f''(t) = 3 f(t) - 4$  avec comme conditions initiales : $t = 0$,  $f(0) =  1$ et $f'(0) =0$.**"
   ]
  },
  {
   "cell_type": "code",
   "execution_count": 6,
   "metadata": {
    "collapsed": false
   },
   "outputs": [
    {
     "name": "stdout",
     "output_type": "stream",
     "text": [
      "-2/3*e^(sqrt(3)*t) - 2/3*e^(-sqrt(3)*t) + 4/3\n"
     ]
    }
   ],
   "source": [
    "var('t')\n",
    "f = function('f')(t)\n",
    "equation_differentielle = (diff(f, t, 2) == 3*f-4)\n",
    "sol = desolve(equation_differentielle, f, ics=[0, 0, 0])\n",
    "print(sol)"
   ]
  },
  {
   "cell_type": "markdown",
   "metadata": {
    "collapsed": false
   },
   "source": [
    "Nous propopns dans ce petit exercice de résoudre le problème suivant : une masse est accrochée à un ressort selon le schéma suivant \n",
    "\n",
    "|Mur|--/\\/\\/\\/\\/\\--($M$)\n",
    "\n",
    "On note $f(t)$ la position de la masse à l'instant $t$.\n",
    "Le ressort a les caractéristiques suivantes :\n",
    "\n",
    " * il est au repos lorsque la masse est à une distance $d>0$ du bord\n",
    " * et il possède une raideur $k>0$\n",
    "\n",
    "L'équation modèle vérifiée par $f(t)$, en supposant que la masse glisse\n",
    "parfaitement, est : $f^{''}(t) = -k(f(t)-d)$.\n",
    "\n",
    "**Résolvez cette équation et affichez la solution. À l'aide de la commande `animate`,\n",
    "affichez une animation simple permettant de voir la masse (dessinée par exemple par\n",
    "un cercle) bouger au cours du temps. Pour les paramètres, prenez $d=1$ et $k=1$.**\n",
    "\n",
    "Remarque : que devez-vous choisir comme conditions initiales ?"
   ]
  },
  {
   "cell_type": "code",
   "execution_count": 49,
   "metadata": {
    "collapsed": false
   },
   "outputs": [
    {
     "name": "stdout",
     "output_type": "stream",
     "text": [
      "cos(t) - 1\n"
     ]
    }
   ],
   "source": [
    "var('t')\n",
    "f = function('f')(t)\n",
    "equation_differentielle = (diff(f, t, 2) == -f-1)\n",
    "sol = desolve(equation_differentielle, f, ics=[0,0,0])\n",
    "print(sol)"
   ]
  },
  {
   "cell_type": "code",
   "execution_count": 50,
   "metadata": {
    "collapsed": false,
    "scrolled": true
   },
   "outputs": [
    {
     "ename": "TypeError",
     "evalue": "'sage.rings.real_mpfr.RealLiteral' object cannot be interpreted as an integer",
     "output_type": "error",
     "traceback": [
      "\u001b[0;31m---------------------------------------------------------------------------\u001b[0m",
      "\u001b[0;31mTypeError\u001b[0m                                 Traceback (most recent call last)",
      "\u001b[0;32m<ipython-input-50-d82a155b4c1d>\u001b[0m in \u001b[0;36m<module>\u001b[0;34m()\u001b[0m\n\u001b[1;32m      1\u001b[0m \u001b[0mposPoint\u001b[0m \u001b[0;34m=\u001b[0m \u001b[0;34m[\u001b[0m\u001b[0;34m]\u001b[0m\u001b[0;34m\u001b[0m\u001b[0m\n\u001b[0;32m----> 2\u001b[0;31m \u001b[0;32mfor\u001b[0m \u001b[0mi\u001b[0m \u001b[0;32min\u001b[0m \u001b[0mrange\u001b[0m\u001b[0;34m(\u001b[0m\u001b[0mRealNumber\u001b[0m\u001b[0;34m(\u001b[0m\u001b[0;34m'0.5'\u001b[0m\u001b[0;34m)\u001b[0m\u001b[0;34m,\u001b[0m \u001b[0mRealNumber\u001b[0m\u001b[0;34m(\u001b[0m\u001b[0;34m'0.5'\u001b[0m\u001b[0;34m)\u001b[0m\u001b[0;34m)\u001b[0m\u001b[0;34m:\u001b[0m\u001b[0;34m\u001b[0m\u001b[0m\n\u001b[0m\u001b[1;32m      3\u001b[0m     \u001b[0mposPoint\u001b[0m\u001b[0;34m.\u001b[0m\u001b[0mappend\u001b[0m\u001b[0;34m(\u001b[0m\u001b[0msol\u001b[0m\u001b[0;34m(\u001b[0m\u001b[0mi\u001b[0m\u001b[0;34m)\u001b[0m\u001b[0;34m)\u001b[0m\u001b[0;34m\u001b[0m\u001b[0m\n",
      "\u001b[0;31mTypeError\u001b[0m: 'sage.rings.real_mpfr.RealLiteral' object cannot be interpreted as an integer"
     ]
    }
   ],
   "source": [
    "posPoint = []\n",
    "for i in range(0.5, 0.5):\n",
    "    posPoint.append(sol(i))"
   ]
  },
  {
   "cell_type": "markdown",
   "metadata": {
    "collapsed": false
   },
   "source": [
    "## Fonctions Python\n",
    "\n",
    "Nous venons de (re)voir les fonctions mathématiques en Sage. Dans le TP précédent,\n",
    "nous avons abordé les fonctions Python. Nous allons revoir un peu ce concept pour\n",
    "voir les différences avec les fonctions Sage (fonctions mathématiques). Commençons\n",
    "par un exemple simple : écrivez un appel de la fonction suivante pour qu'elle retourne 13.\n"
   ]
  },
  {
   "cell_type": "code",
   "execution_count": 9,
   "metadata": {
    "collapsed": false
   },
   "outputs": [
   ],
   "source": [
    "def ma_fonction(x, y):\n",
    "    resultat = x + y\n",
    "    return resultat"
   ]
  },
  {
   "cell_type": "code",
   "execution_count": 10,
   "metadata": {
    "collapsed": false
   },
   "outputs": [
    {
     "data": {
      "text/plain": [
       "5"
      ]
     },
     "execution_count": 10,
     "metadata": {
     },
     "output_type": "execute_result"
    }
   ],
   "source": [
    "ma_fonction(3, 2)"
   ]
  },
  {
   "cell_type": "markdown",
   "metadata": {
    "collapsed": false
   },
   "source": [
    "**Définissez une fonction appelée `somme_diff` prenant en argument 2 nombres, et qui retourne**\n",
    " * **la somme des 2 si le premier nombre est pair**\n",
    " * **la différence des 2 si le premier nombre est impair**\n",
    "\n",
    "Indication : on pourra utiliser le symbole `%` pour connaître la parité d'un nombre."
   ]
  },
  {
   "cell_type": "code",
   "execution_count": 17,
   "metadata": {
    "collapsed": false
   },
   "outputs": [
   ],
   "source": [
    "def somme_diff(a, b):\n",
    "    if a % 2 == 0:\n",
    "        return a + b\n",
    "    else:\n",
    "        return a - b"
   ]
  },
  {
   "cell_type": "markdown",
   "metadata": {
    "collapsed": false
   },
   "source": [
    "**Vérifiez que vous obtenez le résultat attendu :**"
   ]
  },
  {
   "cell_type": "code",
   "execution_count": 18,
   "metadata": {
    "collapsed": false
   },
   "outputs": [
    {
     "data": {
      "text/plain": [
       "6"
      ]
     },
     "execution_count": 18,
     "metadata": {
     },
     "output_type": "execute_result"
    }
   ],
   "source": [
    "somme_diff(4, 2)  # doit afficher 6"
   ]
  },
  {
   "cell_type": "code",
   "execution_count": 19,
   "metadata": {
    "collapsed": false
   },
   "outputs": [
    {
     "data": {
      "text/plain": [
       "2"
      ]
     },
     "execution_count": 19,
     "metadata": {
     },
     "output_type": "execute_result"
    }
   ],
   "source": [
    "somme_diff(5, 3)  # doit afficher 2"
   ]
  },
  {
   "cell_type": "markdown",
   "metadata": {
    "collapsed": false
   },
   "source": [
    "La cellule suivante est une cellule de test, quand vous l'exécutez, rien ne doit s'afficher !"
   ]
  },
  {
   "cell_type": "code",
   "execution_count": 20,
   "metadata": {
    "collapsed": false
   },
   "outputs": [
   ],
   "source": [
    "assert somme_diff(4, 2) == 6\n",
    "assert somme_diff(5, 3) == 2\n",
    "assert somme_diff(10, 3) == 13\n",
    "assert somme_diff(15, 28) == -13"
   ]
  },
  {
   "cell_type": "markdown",
   "metadata": {
    "collapsed": false
   },
   "source": [
    "Voilà ce qui se passe quand un test ne passe pas :"
   ]
  },
  {
   "cell_type": "code",
   "execution_count": 21,
   "metadata": {
    "collapsed": false
   },
   "outputs": [
    {
     "ename": "AssertionError",
     "evalue": "",
     "output_type": "error",
     "traceback": [
      "\u001b[0;31m---------------------------------------------------------------------------\u001b[0m",
      "\u001b[0;31mAssertionError\u001b[0m                            Traceback (most recent call last)",
      "\u001b[0;32m<ipython-input-21-5bb9d11f8001>\u001b[0m in \u001b[0;36m<module>\u001b[0;34m()\u001b[0m\n\u001b[0;32m----> 1\u001b[0;31m \u001b[0;32massert\u001b[0m \u001b[0msomme_diff\u001b[0m\u001b[0;34m(\u001b[0m\u001b[0mInteger\u001b[0m\u001b[0;34m(\u001b[0m\u001b[0;36m2\u001b[0m\u001b[0;34m)\u001b[0m\u001b[0;34m,\u001b[0m \u001b[0mInteger\u001b[0m\u001b[0;34m(\u001b[0m\u001b[0;36m4\u001b[0m\u001b[0;34m)\u001b[0m\u001b[0;34m)\u001b[0m \u001b[0;34m==\u001b[0m \u001b[0;34m-\u001b[0m\u001b[0mInteger\u001b[0m\u001b[0;34m(\u001b[0m\u001b[0;36m2\u001b[0m\u001b[0;34m)\u001b[0m\u001b[0;34m\u001b[0m\u001b[0m\n\u001b[0m",
      "\u001b[0;31mAssertionError\u001b[0m: "
     ]
    }
   ],
   "source": [
    "assert somme_diff(2, 4) == -2"
   ]
  },
  {
   "cell_type": "markdown",
   "metadata": {
    "collapsed": false
   },
   "source": [
    "**Proposez ci-dessous une version corrigée du test ci-dessus.**"
   ]
  },
  {
   "cell_type": "code",
   "execution_count": 22,
   "metadata": {
    "collapsed": false
   },
   "outputs": [
   ],
   "source": [
    "assert somme_diff(2, 4) == 6"
   ]
  },
  {
   "cell_type": "markdown",
   "metadata": {
    "collapsed": false
   },
   "source": [
    "Les fonctions Python sont fondamentalement différentes des fonctions mathématiques\n",
    "vues précédemment. Pour vous en convaincre **exécutez le code suivant** :"
   ]
  },
  {
   "cell_type": "code",
   "execution_count": 23,
   "metadata": {
    "collapsed": false
   },
   "outputs": [
    {
     "name": "stdout",
     "output_type": "stream",
     "text": [
      "<class 'sage.symbolic.expression.Expression'>\n"
     ]
    },
    {
     "ename": "NameError",
     "evalue": "name 'ma_fonction' is not defined",
     "output_type": "error",
     "traceback": [
      "\u001b[0;31m---------------------------------------------------------------------------\u001b[0m",
      "\u001b[0;31mNameError\u001b[0m                                 Traceback (most recent call last)",
      "\u001b[0;32m<ipython-input-23-5280f8a7bbee>\u001b[0m in \u001b[0;36m<module>\u001b[0;34m()\u001b[0m\n\u001b[1;32m      1\u001b[0m \u001b[0m__tmp__\u001b[0m\u001b[0;34m=\u001b[0m\u001b[0mvar\u001b[0m\u001b[0;34m(\u001b[0m\u001b[0;34m\"x\"\u001b[0m\u001b[0;34m)\u001b[0m\u001b[0;34m;\u001b[0m \u001b[0mf\u001b[0m \u001b[0;34m=\u001b[0m \u001b[0msymbolic_expression\u001b[0m\u001b[0;34m(\u001b[0m\u001b[0mx\u001b[0m\u001b[0;34m**\u001b[0m\u001b[0mInteger\u001b[0m\u001b[0;34m(\u001b[0m\u001b[0;36m2\u001b[0m\u001b[0;34m)\u001b[0m\u001b[0;34m)\u001b[0m\u001b[0;34m.\u001b[0m\u001b[0mfunction\u001b[0m\u001b[0;34m(\u001b[0m\u001b[0mx\u001b[0m\u001b[0;34m)\u001b[0m\u001b[0;34m\u001b[0m\u001b[0m\n\u001b[1;32m      2\u001b[0m \u001b[0mprint\u001b[0m\u001b[0;34m(\u001b[0m\u001b[0mtype\u001b[0m\u001b[0;34m(\u001b[0m\u001b[0mf\u001b[0m\u001b[0;34m)\u001b[0m\u001b[0;34m)\u001b[0m\u001b[0;34m\u001b[0m\u001b[0m\n\u001b[0;32m----> 3\u001b[0;31m \u001b[0mprint\u001b[0m\u001b[0;34m(\u001b[0m\u001b[0mtype\u001b[0m\u001b[0;34m(\u001b[0m\u001b[0mma_fonction\u001b[0m\u001b[0;34m)\u001b[0m\u001b[0;34m)\u001b[0m\u001b[0;34m\u001b[0m\u001b[0m\n\u001b[0m",
      "\u001b[0;31mNameError\u001b[0m: name 'ma_fonction' is not defined"
     ]
    }
   ],
   "source": [
    "f(x) = x^2\n",
    "print(type(f))\n",
    "print(type(ma_fonction))"
   ]
  },
  {
   "cell_type": "markdown",
   "metadata": {
    "collapsed": false
   },
   "source": [
    "L'une des conséquences importante de cette différence est que les fonctions Python\n",
    "ne possèdent pas les mêmes méthodes que les expressions symboliques définissant\n",
    "les fonctions Sage. Par conséquent, on ne peut pas utiliser des instructions du\n",
    "type `integrate` ou `diff` sur les fonctions Python."
   ]
  },
  {
   "cell_type": "markdown",
   "metadata": {
    "collapsed": false
   },
   "source": [
    "**Écrivez une fonction Python qui prend en argument une fonction mathématique $f$\n",
    "et un entier $N$, et qui renvoie le tracé du développement de Taylor à l'ordre $N$\n",
    "de $f$ autour de 0. Testez votre code en traçant sur un même graphique $f$\n",
    "et son développement de Taylor.**"
   ]
  },
  {
   "cell_type": "code",
   "execution_count": 99,
   "metadata": {
    "collapsed": false
   },
   "outputs": [
   ],
   "source": [
    "def taylor(g, n):\n",
    "    var('x')\n",
    "    h = g\n",
    "    f = h.taylor(x, 0, n)\n",
    "    return plot(f, x, -5, 5) + plot(h, x, -5, 5)"
   ]
  },
  {
   "cell_type": "code",
   "execution_count": 101,
   "metadata": {
    "collapsed": false
   },
   "outputs": [
    {
     "data": {
      "image/png": "[encoded data removed]"
     }
    }
   ],
   "source": [
    "taylor(e^x, 1)"
   ]
  },
  {
   "cell_type": "code",
   "execution_count": 29,
   "metadata": {
    "collapsed": false
   },
   "outputs": [
   ],
   "source": [
   ]
  },
  {
   "cell_type": "markdown",
   "metadata": {
    "collapsed": false
   },
   "source": [
    "On considère une suite d'instructions données par une liste du type `['h','b','g','d']`\n",
    "indiquant une succesion de déplacements 'haut', 'bas', 'gauche' et 'droite'. Une boule\n",
    "placée en $(0, 0)$ se déplace selon cette suite d'instructions. On suppose qu'à chaque\n",
    "déplacement, elle bouge d'une distance $1$.\n",
    "\n",
    "**Écrivez une fonction `chemin_boule`** qui prend en paramètre la liste d'instructions et\n",
    "renvoie **une liste de tracés** représentant les différentes positions de la boule.\n",
    "\n",
    "Puis **exécutez** l'exemple ci-dessous pour voir l'animation correspondante."
   ]
  },
  {
   "cell_type": "code",
   "execution_count": 74,
   "metadata": {
    "collapsed": false
   },
   "outputs": [
   ],
   "source": [
    "def chemin_boule(liste):\n",
    "    boule = []\n",
    "    x = 0\n",
    "    y = 0\n",
    "    n = len(liste)\n",
    "    for i in range(0, n):\n",
    "        if liste[i]== 'h':\n",
    "            y +=1\n",
    "        elif liste[i] == 'b':\n",
    "            y -=1\n",
    "        elif liste[i] == 'd':\n",
    "            x +=1\n",
    "        elif liste[i] == 'g':\n",
    "            x -=1\n",
    "        boule.append(plot(point2d([x,y])))\n",
    "    return animate(boule)"
   ]
  },
  {
   "cell_type": "code",
   "execution_count": 75,
   "metadata": {
    "collapsed": false
   },
   "outputs": [
    {
     "data": {
      "text/html": [
       "<img src=\"data:image/gif;base64,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\"/>"
      ]
     },
     "execution_count": 75,
     "metadata": {
     },
     "output_type": "execute_result"
    }
   ],
   "source": [
    "chemin_boule(['h', 'b', 'g', 'd'])"
   ]
  },
  {
   "cell_type": "code",
   "execution_count": 77,
   "metadata": {
    "collapsed": false,
    "scrolled": true
   },
   "outputs": [
    {
     "name": "stderr",
     "output_type": "stream",
     "text": [
      "WARNING: Some output was deleted.\n"
     ]
    }
   ],
   "source": [
    "# testez d'abord si la fonction s'exécute et renvoie bien quelque chose\n",
    "chemin_boule([\"h\", \"h\", \"d\", \"b\", \"d\", \"d\", \"h\", \"g\", \"g\", \"b\", \"b\"])"
   ]
  },
  {
   "cell_type": "code",
   "execution_count": 76,
   "metadata": {
    "collapsed": false,
    "scrolled": true
   },
   "outputs": [
    {
     "name": "stderr",
     "output_type": "stream",
     "text": [
      "WARNING: Some output was deleted.\n"
     ]
    }
   ],
   "source": [
    "# maintenant, testons l'animation\n",
    "chemin_boule([\"h\", \"h\", \"d\", \"b\", \"d\", \"d\", \"h\", \"g\", \"g\", \"b\", \"b\"])"
   ]
  },
  {
   "cell_type": "markdown",
   "metadata": {
    "collapsed": false
   },
   "source": [
    "## Simulation d'un système à 2 masses oscillantes.\n",
    "\n",
    "Pour finir, revenons à la résolution d'équations différentielles. Jusqu'à présent,\n",
    "nous avons vu comment faire une *résolution exacte* ce qui n'est pas toujours possible.\n",
    "Nous allons voir comment utiliser Sage pour faire une *résolution numérique* approchée\n",
    "d'un système d'équations.\n",
    "\n",
    "**Problème**\n",
    "\n",
    "On étudie le cas de 2 masses liées entres elles par deux ressorts comme représenté ci-dessous :\n",
    "\n",
    "|Mur|--/\\/\\/\\/\\/\\--($M_1$)--/\\/\\/\\/\\/\\--($M_2$)\n",
    "\n",
    "On note $x_1(t)$ et $x_2(t)$ les positions des masses $M_1$ et $M_2$.\n",
    "Les deux ressorts ont les caractéristiques suivantes :\n",
    "* le premier ressort, de raideur $k_1$, est au repos lorsque sa longueur est égale à $d_1$,\n",
    "* le second ressort, de raideur $k_2$, est au repos lorsque sa longueur est égale à $d_2$.\n",
    "\n",
    "Les équations vérifiées par $x_1$ et $x_2$ sont alors :\n",
    "$$\\begin{cases}\n",
    "x''_1(t) = -k_1 (x_1 - d_1) + k_2 (x_2 - x_1 - d_2)\\\\[8pt]\n",
    "x''_2(t) = -k_2 (x_2 - x_1 - d_2)\n",
    "\\end{cases}$$\n",
    "\n",
    "On cherche à évaluer la position des deux ressorts au cours du temps.\n",
    "\n",
    "**Comment faire ?**\n",
    "\n",
    "Nous allons utiliser la fonction de Sage `desolve_system_rk4`. Celle-ci est conçue\n",
    "pour résoudre des systèmes d'équations présentés de la façon suivante :\n",
    "\n",
    "$$\\begin{cases}\n",
    "    a'_1(t) = \\dots \\\\[8pt]\n",
    "    a'_2(t) = \\dots \\\\[8pt]\n",
    "    a'_3(t) = \\dots \\\\[8pt]\n",
    "    \\dots\n",
    "\\end{cases}$$\n",
    "\n",
    "Ça ne correspond pas tout à fait à notre système. Le premier travail est donc\n",
    "de *ré-écrire* notre problème différement. On introduit deux nouvelles variables :\n",
    "$v_1 = x_1'$ et $v_2 = x_2'$.\n",
    "\n",
    "**Sur papier**. Posez $a_1 = x_1$, $a_2 = x_2$, $a_3 = v_1$ et $a_4 = v_2$ puis\n",
    "écrivez un système d'équations compatibles avec `desolve_system_rk4`. C'est-à-dire :\n",
    "\n",
    "$$\n",
    "\\begin{cases}\n",
    "    a'_1(t) = \\dots \\\\[8pt]\n",
    "    a'_2(t) = \\dots \\\\[8pt]\n",
    "    a'_3(t) = \\dots \\\\[8pt]\n",
    "    a'_4(t) = \\dots\n",
    "\\end{cases}\n",
    "$$\n",
    "\n",
    "où vous n'utilisez dans la partie droite que les variables $a_1$, $a_2$, $a_3$ et $a_4$\n",
    "(pas le droit d'écrire $a_i'$ ou $a_i''$ dans la partie droite) et les paramètres\n",
    "$k_1$, $k_2$, $d_1$, $d_2$. Remarque : vous avez bien sûr besoin de l'équation\n",
    "différentielle présentée au début.\n",
    "\n",
    "**Passons de l'expression sur papier à la résolution sur machine**\n",
    "\n",
    "On commence par définir les variables Python dont nous aurons besoin :\n",
    " * $a_1$, $\\dots$, $a_4$ ainsi que $t$ sont des variables formelles ;\n",
    " * $k_1$, $k_2$, $d_1$, $d_2$ sont des constantes liées aux ressorts :\n",
    "   on les met tous à 1 (il faudrait les initialiser avec les valeurs\n",
    "   réelles des ressorts qu'on veut modéliser).\n"
   ]
  },
  {
   "cell_type": "code",
   "execution_count": 0,
   "metadata": {
    "collapsed": false
   },
   "outputs": [
   ],
   "source": [
   ]
  },
  {
   "cell_type": "code",
   "execution_count": 5,
   "metadata": {
    "collapsed": false
   },
   "outputs": [
   ],
   "source": [
    "var('a1, a2, a3, a4, t')\n",
    "k1, k2, d1, d2 = 1, 1, 1, 1"
   ]
  },
  {
   "cell_type": "markdown",
   "metadata": {
    "collapsed": false
   },
   "source": [
    "Exécutez la cellule suivante, lisez la documentation de la fonction et essayez d'identifer les différents paramètres."
   ]
  },
  {
   "cell_type": "code",
   "execution_count": 0,
   "metadata": {
    "collapsed": false
   },
   "outputs": [
   ],
   "source": [
    "desolve_system_rk4?"
   ]
  },
  {
   "cell_type": "markdown",
   "metadata": {
    "collapsed": false
   },
   "source": [
    "* le premier paramètre `des` correspond à la partie **droite**\n",
    "  du système d'équations. C'est la partie que vous venez de trouver.\n",
    "  Ce sera donc une **liste Python** dont la première valeur sera\n",
    "  **l'expression** de $a_1'$, puis la deuxième l'expression de $a_2'$, etc.\n",
    "* le second paramètre `vars` correspond aux variables de la partie\n",
    "  **gauche** du système. Ce sera donc la **liste Python** `[a1, a2, a3, a4]`\n",
    "* le paramètre `ivar` sert à déclarer la variable supplémentaire $t$\n",
    "* le paramètre `ics` correspond aux conditions initiales. C'est une\n",
    "  **liste python** dont la première valeur est la valeur initiale de $t$,\n",
    "  puis de $a_1$, puis $a_2$, etc. On veut que commencer tel que le premier\n",
    "  ressort soit à **distance 1** et le second ressort à **distance 3**,\n",
    "  les deux ont une vitesse initiale nulle.\n",
    "* le paramètre `end_points` donne la valeur de $t$ à laquelle on arrêtera\n",
    "  le calcul. On choisit $t = 10$.\n",
    "* le paramètre `step` donne la taille de chaque pas de calcul, on choisit $0.5$.\n",
    "\n",
    "Ci-dessous, on vous initialise une partie des paramètres, **exécutez-la**.\n",
    "Dans la cellule suivante, **initialisez les paramètres manquants `des` et `ics`**\n",
    "pour que la cellule d'appel à la fonction `desolve_system_rk4` fonctionne."
   ]
  },
  {
   "cell_type": "code",
   "execution_count": 22,
   "metadata": {
    "collapsed": false
   },
   "outputs": [
   ],
   "source": [
    "vars = [a1, a2, a3, a4]\n",
    "ivar = t\n",
    "end_points = 10\n",
    "step = 0.5"
   ]
  },
  {
   "cell_type": "code",
   "execution_count": 23,
   "metadata": {
    "collapsed": false
   },
   "outputs": [
   ],
   "source": [
    "des = [a3, a4, (-k1*(a1-d1)+k2*(a2-a1-d1)), -k2*(a2-a1-d2)]\n",
    "ics = [0, k1, k2, d1, d2]"
   ]
  },
  {
   "cell_type": "code",
   "execution_count": 27,
   "metadata": {
    "collapsed": false
   },
   "outputs": [
   ],
   "source": [
    "R = desolve_system_rk4(des=des, vars=vars, ivar=ivar, ics=ics,  end_points=end_points, step=step)"
   ]
  },
  {
   "cell_type": "markdown",
   "metadata": {
    "collapsed": false
   },
   "source": [
    "Vérifiez dans la cellule suivante que `R` est bien une liste de taille 21."
   ]
  },
  {
   "cell_type": "code",
   "execution_count": 29,
   "metadata": {
    "collapsed": false
   },
   "outputs": [
    {
     "data": {
      "text/plain": [
       "<class 'type'>"
      ]
     },
     "execution_count": 29,
     "metadata": {
     },
     "output_type": "execute_result"
    }
   ],
   "source": [
    "type(R)"
   ]
  },
  {
   "cell_type": "code",
   "execution_count": 25,
   "metadata": {
    "collapsed": false
   },
   "outputs": [
    {
     "data": {
      "text/plain": [
       "21"
      ]
     },
     "execution_count": 25,
     "metadata": {
     },
     "output_type": "execute_result"
    }
   ],
   "source": [
    "len(R)"
   ]
  },
  {
   "cell_type": "markdown",
   "metadata": {
    "collapsed": false
   },
   "source": [
    "**Que contient `R` ?** On a fait une résolution numérique, on n'obtient donc pas\n",
    "un résultat exact sous forme de fonction. `R` est une **liste de liste**.\n",
    "Par exemple, on a :"
   ]
  },
  {
   "cell_type": "code",
   "execution_count": 28,
   "metadata": {
    "collapsed": false
   },
   "outputs": [
    {
     "data": {
      "text/plain": [
       "[0, 1, 1, 1, 1]"
      ]
     },
     "execution_count": 28,
     "metadata": {
     },
     "output_type": "execute_result"
    }
   ],
   "source": [
    "R[0] # au temps 0, a_1 = 1, a_2 = 3, a_3 = 0, a_4 = 0"
   ]
  },
  {
   "cell_type": "code",
   "execution_count": 29,
   "metadata": {
    "collapsed": false
   },
   "outputs": [
    {
     "data": {
      "text/plain": [
       "[0.5,\n",
       " 1.361979166666667,\n",
       " 1.619791666666667,\n",
       " 0.4427083333333334,\n",
       " 1.455729166666667]"
      ]
     },
     "execution_count": 29,
     "metadata": {
     },
     "output_type": "execute_result"
    }
   ],
   "source": [
    "R[1] # au temps 0.5, ..."
   ]
  },
  {
   "cell_type": "code",
   "execution_count": 30,
   "metadata": {
    "collapsed": false
   },
   "outputs": [
    {
     "data": {
      "text/plain": [
       "[1.0,\n",
       " 1.464877658420139,\n",
       " 2.414516872829861,\n",
       " 0.01777479383680564,\n",
       " 1.665852864583333]"
      ]
     },
     "execution_count": 30,
     "metadata": {
     },
     "output_type": "execute_result"
    }
   ],
   "source": [
    "R[2] # au temps 1, ..."
   ]
  },
  {
   "cell_type": "code",
   "execution_count": 31,
   "metadata": {
    "collapsed": false
   },
   "outputs": [
    {
     "data": {
      "text/plain": [
       "[1.5,\n",
       " 1.446139582881221,\n",
       " 3.217930528852674,\n",
       " -0.02632209989759661,\n",
       " 1.481777632677997]"
      ]
     },
     "execution_count": 31,
     "metadata": {
     },
     "output_type": "execute_result"
    }
   ],
   "source": [
    "R[3] # au temps 3,..."
   ]
  },
  {
   "cell_type": "markdown",
   "metadata": {
    "collapsed": false
   },
   "source": [
    "Les valeurs qui nous intéressent sont celles de $x_1$ et $x_2$,\n",
    "c'est-à-dire $a_1$ et $a_2$. On cherche à faire une animation\n",
    "montrant le mouvement des ressorts.\n",
    "\n",
    "**Complétez la fonction Python `trace_ressorts`** qui prend en paramètre\n",
    "la liste `R` et renvoie une **liste de tracés** du système à chaque temps\n",
    "donné (on trace les deux ressorts au bon endroit)."
   ]
  },
  {
   "cell_type": "code",
   "execution_count": 39,
   "metadata": {
    "collapsed": false
   },
   "outputs": [
   ],
   "source": [
    "def trace_ressorts(R):\n",
    "    \"\"\"\n",
    "    Renvoie la liste des tracés des ressorts à chaque temps.\n",
    "\n",
    "    INPUT:\n",
    "\n",
    "    - ``R`` -- le résultat du solveur\n",
    "    \"\"\"\n",
    "    positionsPoints = []\n",
    "    for temps in R:\n",
    "        positionsPoints.append(plot(point2d([temps[3],0]) + point2d([temps[4],0])))\n",
    "\n",
    "    return positionsPoints\n"
   ]
  },
  {
   "cell_type": "code",
   "execution_count": 40,
   "metadata": {
    "collapsed": false
   },
   "outputs": [
    {
     "data": {
      "text/plain": [
       "[Graphics object consisting of 2 graphics primitives,\n",
       " Graphics object consisting of 2 graphics primitives,\n",
       " Graphics object consisting of 2 graphics primitives,\n",
       " Graphics object consisting of 2 graphics primitives,\n",
       " Graphics object consisting of 2 graphics primitives,\n",
       " Graphics object consisting of 2 graphics primitives,\n",
       " Graphics object consisting of 2 graphics primitives,\n",
       " Graphics object consisting of 2 graphics primitives,\n",
       " Graphics object consisting of 2 graphics primitives,\n",
       " Graphics object consisting of 2 graphics primitives,\n",
       " Graphics object consisting of 2 graphics primitives,\n",
       " Graphics object consisting of 2 graphics primitives,\n",
       " Graphics object consisting of 2 graphics primitives,\n",
       " Graphics object consisting of 2 graphics primitives,\n",
       " Graphics object consisting of 2 graphics primitives,\n",
       " Graphics object consisting of 2 graphics primitives,\n",
       " Graphics object consisting of 2 graphics primitives,\n",
       " Graphics object consisting of 2 graphics primitives,\n",
       " Graphics object consisting of 2 graphics primitives,\n",
       " Graphics object consisting of 2 graphics primitives,\n",
       " Graphics object consisting of 2 graphics primitives]"
      ]
     },
     "execution_count": 40,
     "metadata": {
     },
     "output_type": "execute_result"
    }
   ],
   "source": [
    "# vérifions que la fonction s'exécute\n",
    "P = trace_ressorts(R)\n",
    "P"
   ]
  },
  {
   "cell_type": "code",
   "execution_count": 41,
   "metadata": {
    "collapsed": false,
    "scrolled": true
   },
   "outputs": [
    {
     "name": "stderr",
     "output_type": "stream",
     "text": [
      "WARNING: Some output was deleted.\n"
     ]
    }
   ],
   "source": [
    "# et est-ce que l'animation fonctionne ?\n",
    "animate(P)"
   ]
  },
  {
   "cell_type": "code",
   "execution_count": 0,
   "metadata": {
    "collapsed": false
   },
   "outputs": [
   ],
   "source": [
   ]
  },
  {
   "cell_type": "code",
   "execution_count": 0,
   "metadata": {
    "collapsed": false,
    "scrolled": true
   },
   "outputs": [
   ],
   "source": [
   ]
  },
  {
   "cell_type": "code",
   "execution_count": 0,
   "metadata": {
    "collapsed": false
   },
   "outputs": [
   ],
   "source": [
   ]
  },
  {
   "cell_type": "code",
   "execution_count": 0,
   "metadata": {
    "collapsed": false
   },
   "outputs": [
   ],
   "source": [
   ]
  },
  {
   "cell_type": "code",
   "execution_count": 1,
   "metadata": {
    "collapsed": false
   },
   "outputs": [
   ],
   "source": [
    "dico = {}"
   ]
  },
  {
   "cell_type": "code",
   "execution_count": 4,
   "metadata": {
    "collapsed": false
   },
   "outputs": [
   ],
   "source": [
    "dico[5] = [1,2,3]"
   ]
  },
  {
   "cell_type": "code",
   "execution_count": 0,
   "metadata": {
    "collapsed": false
   },
   "outputs": [
   ],
   "source": [
   ]
  },
  {
   "cell_type": "code",
   "execution_count": 5,
   "metadata": {
    "collapsed": false
   },
   "outputs": [
    {
     "data": {
      "text/plain": [
       "{5: [1, 2, 3], 'thomas': 10}"
      ]
     },
     "execution_count": 5,
     "metadata": {
     },
     "output_type": "execute_result"
    }
   ],
   "source": [
    "dico"
   ]
  },
  {
   "cell_type": "code",
   "execution_count": 0,
   "metadata": {
    "collapsed": false
   },
   "outputs": [
   ],
   "source": [
   ]
  }
 ],
 "metadata": {
  "kernelspec": {
   "display_name": "SageMath 8.6",
   "language": "sagemath",
   "metadata": {
    "cocalc": {
     "description": "Open-source mathematical software system",
     "priority": 2,
     "url": "https://www.sagemath.org/"
    }
   },
   "name": "sage-8.6"
  },
  "language_info": {
   "codemirror_mode": {
    "name": "ipython",
    "version": 2
   },
   "file_extension": ".py",
   "mimetype": "text/x-python",
   "name": "python",
   "nbconvert_exporter": "python",
   "pygments_lexer": "ipython2",
   "version": "2.7.15"
  }
 },
 "nbformat": 4,
 "nbformat_minor": 0
}