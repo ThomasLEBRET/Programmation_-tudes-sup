{
 "cells": [
  {
   "cell_type": "code",
   "execution_count": 0,
   "metadata": {
    "collapsed": false
   },
   "outputs": [
   ],
   "source": [
    "\"\"\"\"Conventions:\n",
    "lab a la place de labyrinthe/laby/labyr...\n",
    "cel a la place de cellulaire\n",
    "\n",
    "\n",
    "labCel: premiers  elements lignes\n",
    "        deuxiemes elements cellules\n",
    "            dernier element murs, vide (informations) de la cellule\n",
    "        exemple:\n",
    "        (((m,m,v,m),(m,m,m,v)),((m,m,m,m),(m,m,m,m)))\n",
    "          \\cellule0/\\cellule1/  \\cellule0/\\cellule1/\n",
    "         \\________ligne0_____/ \\___ligne1__________/\n",
    "         \\___________labyrinthe____________________/\n",
    "\"\"\"\n",
    "\n",
    "#0eme  valeur droite\n",
    "#1ere  valeur gauche\n",
    "#2eme valeur bas\n",
    "#3eme valeur haut\n",
    "m = True\n",
    "v = False"
   ]
  },
  {
   "cell_type": "code",
   "execution_count": 0,
   "metadata": {
    "collapsed": false
   },
   "outputs": [
   ],
   "source": [
    "def coordLigneVer(x,y,s):\n",
    "    return [(x,y-s),(x,y)]\n",
    "\n",
    "def coordLigneHor(x,y,s):\n",
    "    return [(x,y),(x-s,y)]"
   ]
  },
  {
   "cell_type": "code",
   "execution_count": 86,
   "metadata": {
    "collapsed": false
   },
   "outputs": [
   ],
   "source": [
    "class cell:\n",
    "    def __init__(self):\n",
    "        self.d = False\n",
    "        self.g = False\n",
    "        self.h = False\n",
    "        self.b = False\n",
    "    def __init__(self,d,g,h,b):\n",
    "        self.d = bool(d)\n",
    "        self.g = bool(g)\n",
    "        self.h = bool(h)\n",
    "        self.b = bool(b)\n",
    "    def __repr__(self):\n",
    "        return '(d:'+str(self.d) +', g:'+ repr(self.g) +', h:'+ repr(self.h) +', b:'+ repr(self.b) + ')'\n",
    "\n",
    "    def __str__(self):\n",
    "        return '(d:'+repr(self.d) +', g:'+ repr(self.g) +', h:'+ repr(self.h) +', b:'+ repr(self.b) + ')'\n",
    "    def affiche(self,x,y,size):\n",
    "        cellG = Graphics()\n",
    "        x = x - 1 + size\n",
    "        y = y - 1 + size\n",
    "        cellG += circle((x+(1-size)/2,y+(1-size)/2),1-size,fill = True,facecolor = \"brown\")\n",
    "        if self.d != v:\n",
    "            cellG += line2d(coordLigneVer(x,y,size),color = \"blue\",thickness = 2)\n",
    "        if self.g != v:\n",
    "            cellG += line2d(coordLigneVer(x - size,y,size),color = \"yellow\",thickness = 2)\n",
    "        if self.h != v:\n",
    "            cellG += line2d(coordLigneHor(x,y ,size),color = \"blue\",thickness = 2)\n",
    "        if self.b != v:\n",
    "            cellG += line2d(coordLigneHor(x,y-size,size),color = \"yellow\",thickness = 2)\n",
    "        return cellG"
   ]
  },
  {
   "cell_type": "code",
   "execution_count": 87,
   "metadata": {
    "collapsed": false
   },
   "outputs": [
   ],
   "source": [
    "class Position:\n",
    "    def __init__(self):\n",
    "        self.x = 0\n",
    "        self.y = 0\n",
    "    def __init__(self,x,y):\n",
    "        self.x = x\n",
    "        self.y = y\n",
    "    def __repr__(self):\n",
    "        return \"(\"+str(self.x)+\",\"+str(self.y)+\")\"\n",
    "    def __str__(self):\n",
    "        return \"(\"+str(self.x)+\",\"+str(self.y)+\")\"\n",
    "    def __eq__(self, other):\n",
    "        return self.x == other.x and self.y == other.y\n",
    "    def __add__(self, other):\n",
    "        return Position(self.x + other.x,self.y + other.y)\n",
    "    def affiche(self,x,y):\n",
    "        pos = circle((self.x+x,self.y+y),0.2)"
   ]
  },
  {
   "cell_type": "code",
   "execution_count": 88,
   "metadata": {
    "collapsed": false
   },
   "outputs": [
   ],
   "source": [
    "\"\"\"différences avec cell :\n",
    "              -affichage:\n",
    "                  -gris\n",
    "                  -pastille qui se colore si la case est reliée aux autres\n",
    "              -variable:\n",
    "                  -linked : booleen, qui s'active si la cellule est connectée au reste du labyrinthe.\n",
    "              \"\"\"\n",
    "class cell_g:#classe utilisée pour générer un labyrinthe avec les fonctions avec des liens.\n",
    "    def __init__(self):\n",
    "        self.d = False\n",
    "        self.g = False\n",
    "        self.h = False\n",
    "        self.b = False\n",
    "        self.linked = False\n",
    "    def __init__(self,d,g,h,b,linked):\n",
    "        self.d = bool(d)\n",
    "        self.g = bool(g)\n",
    "        self.h = bool(h)\n",
    "        self.b = bool(b)\n",
    "        self.linked = bool(linked)\n",
    "    def __repr__(self):\n",
    "        return '{(d:'+str(self.d) +', g:'+ repr(self.g) +', h:'+ repr(self.h) +', b:'+ repr(self.b) + '),'+(self.linked)+'}'\n",
    "\n",
    "    def __str__(self):\n",
    "        return '{(d:'+str(self.d) +', g:'+ repr(self.g) +', h:'+ repr(self.h) +', b:'+ repr(self.b) + '),'+repr(self.linked)+'}'\n",
    "    def __eq__(self,other):\n",
    "        return self.d == other.d and self.g == other.g and self.b == other.b and self.h == other.h and self.linked == other.linked\n",
    "    def affiche(self,x,y,size):\n",
    "        cellG = Graphics()\n",
    "        x = x - 1 + size\n",
    "        y = y - 1 + size\n",
    "        if self.linked:\n",
    "            circleColor = \"green\"\n",
    "        else:\n",
    "            circleColor = \"red\"\n",
    "        cellG += circle((x+(1-size)/2,y+(1-size)/2),(1-size)/1.3,fill = True,facecolor = circleColor,thickness = 0)\n",
    "        if self.d != v:\n",
    "            cellG += line2d(coordLigneVer(x,y,size),color = \"black\",thickness = 2)\n",
    "        if self.g != v:\n",
    "            cellG += line2d(coordLigneVer(x - size,y,size),color = \"black\",thickness = 2)\n",
    "        if self.h != v:\n",
    "            cellG += line2d(coordLigneHor(x,y ,size),color = \"black\",thickness = 2)\n",
    "        if self.b != v:\n",
    "            cellG += line2d(coordLigneHor(x,y-size,size),color = \"black\",thickness = 2)\n",
    "        return cellG"
   ]
  },
  {
   "cell_type": "code",
   "execution_count": 89,
   "metadata": {
    "collapsed": false
   },
   "outputs": [
    {
     "name": "stdout",
     "output_type": "stream",
     "text": [
      "{(d:True, g:True, h:True, b:True),False}\n"
     ]
    },
    {
     "data": {
      "image/png": "[encoded data removed]",
      "text/plain": [
       "Graphics object consisting of 4 graphics primitives"
      ]
     },
     "execution_count": 89,
     "metadata": {
     },
     "output_type": "execute_result"
    }
   ],
   "source": [
    "Cell = cell_g(True,True,True,True,False)\n",
    "print(Cell)\n",
    "Cell.g = False\n",
    "Cell.affiche(2,2,1).show()"
   ]
  },
  {
   "cell_type": "code",
   "execution_count": 90,
   "metadata": {
    "collapsed": false
   },
   "outputs": [
   ],
   "source": [
    "def verifieEnceinte(labC):\n",
    "    for cellsL1 in labC[0]:\n",
    "        if cellsL1.b == v:\n",
    "            return False\n",
    "    for cellsLn in labC[len(labC)-1]:\n",
    "        if cellsLn.h == v:\n",
    "            return False\n",
    "    for ligne in labC:\n",
    "        if ligne[0].g == v:\n",
    "            return False\n",
    "        if ligne[len(ligne)-1].d == v:\n",
    "            return False\n",
    "    return true"
   ]
  },
  {
   "cell_type": "code",
   "execution_count": 91,
   "metadata": {
    "collapsed": false
   },
   "outputs": [
   ],
   "source": [
    "#vérifie pairs à pairs les murs placés par les cellules\n",
    "def verifieCellsLab(labC):\n",
    "    lastUpWalls = [m for i in range(len(labC[0]))]\n",
    "    for ligne in labC:\n",
    "        lastRightWall = m\n",
    "        for cellIndex,cell in enumerate(ligne):\n",
    "            leftWall = cell.g\n",
    "            upWall = cell.h\n",
    "            downWall = cell.b\n",
    "            if lastUpWalls[cellIndex] != downWall:\n",
    "                cell.affiche(200,200,1).show()\n",
    "                afficheLabCel([ligne],2,2).show()\n",
    "                print(cellIndex)\n",
    "                return False\n",
    "            if lastRightWall != leftWall:\n",
    "                cell.affiche(-2,-2,1).show()\n",
    "                return False\n",
    "            lastRightWall = cell.d\n",
    "            lastUpWalls[cellIndex] = upWall\n",
    "    return True\n"
   ]
  },
  {
   "cell_type": "code",
   "execution_count": 92,
   "metadata": {
    "collapsed": false
   },
   "outputs": [
   ],
   "source": [
    "def verifiePseudoLab(labC):\n",
    "    return verifieEnceinte(labC) and verifieCellsLab(labC)"
   ]
  },
  {
   "cell_type": "code",
   "execution_count": 93,
   "metadata": {
    "collapsed": false
   },
   "outputs": [
   ],
   "source": [
    "def verifieNombreMurLab(lab):\n",
    "    m = len(lab)\n",
    "    n = len(lab[0])\n",
    "    emptyWalls = 0\n",
    "    for line in lab:\n",
    "        for cell in line:\n",
    "            if not cell.h:\n",
    "                emptyWalls +=1\n",
    "            if not cell.d:\n",
    "                emptyWalls +=1\n",
    "    return m*n -1 == emptyWalls"
   ]
  },
  {
   "cell_type": "code",
   "execution_count": 94,
   "metadata": {
    "collapsed": false
   },
   "outputs": [
   ],
   "source": [
    "def generateNewPositions(cell,pos):\n",
    "    posList = []\n",
    "    if not cell.h:\n",
    "        posList.append(Position(pos.x,pos.y+1))\n",
    "    if not cell.b:\n",
    "        posList.append(Position(pos.x,pos.y-1))\n",
    "    if not cell.d:\n",
    "        posList.append(Position(pos.x+1,pos.y))\n",
    "    if not cell.g:\n",
    "        posList.append(Position(pos.x-1,pos.y))\n",
    "    return posList"
   ]
  },
  {
   "cell_type": "code",
   "execution_count": 95,
   "metadata": {
    "collapsed": false
   },
   "outputs": [
   ],
   "source": [
    "def verifieConnexitee(lab):\n",
    "    vu = [Position(0,0)]\n",
    "    last = 0\n",
    "    while len(vu) < len(lab) * len(lab[0]):\n",
    "        newElementAdded = True\n",
    "        while newElementAdded:\n",
    "            pos = Position(vu[last].x,vu[last].y)\n",
    "            newElementAdded = False\n",
    "            for newPos in generateNewPositions(lab[pos.y][pos.x],pos):\n",
    "                if not newPos in vu:\n",
    "                    vu.append(newPos)\n",
    "                    newElementAdded = True\n",
    "                    last = len(vu)-1\n",
    "        if last < 0:\n",
    "            return False\n",
    "        else:\n",
    "            last -=1\n",
    "    return True"
   ]
  },
  {
   "cell_type": "code",
   "execution_count": 96,
   "metadata": {
    "collapsed": false
   },
   "outputs": [
   ],
   "source": [
    "def verifieConnexiteeComplexite(lab):\n",
    "    vu = [Position(0,0)]\n",
    "    acc = 0\n",
    "    last = 0\n",
    "    while len(vu) < len(lab) * len(lab[0]):\n",
    "        newElementAdded = True\n",
    "        while newElementAdded:\n",
    "            pos = Position(vu[last].x,vu[last].y)\n",
    "            newElementAdded = False\n",
    "            for newPos in generateNewPositions(lab[pos.y][pos.x],pos):\n",
    "                if not newPos in vu:\n",
    "                    vu.append(newPos)\n",
    "                    acc+=1\n",
    "                    newElementAdded = True\n",
    "                    last = len(vu)-1\n",
    "        if last < 0:\n",
    "            return False\n",
    "        else:\n",
    "            last -=1\n",
    "            acc+=1\n",
    "    return acc"
   ]
  },
  {
   "cell_type": "code",
   "execution_count": 97,
   "metadata": {
    "collapsed": false
   },
   "outputs": [
   ],
   "source": [
    "def verifieLab(lab):\n",
    "    return verifiePseudoLab(lab) and verifieNombreMurLab(lab) and verifieConnexitee(lab)"
   ]
  },
  {
   "cell_type": "code",
   "execution_count": 98,
   "metadata": {
    "collapsed": false
   },
   "outputs": [
   ],
   "source": [
    "def afficheLabCel(labC,offsetX,offsetY):\n",
    "    listeMurs = Graphics()\n",
    "    ligne = offsetX\n",
    "    for ligneCel in labC:\n",
    "        colonne= offsetY\n",
    "        for Cel in ligneCel:\n",
    "            listeMurs += Cel.affiche(colonne,ligne,0.9)\n",
    "            colonne+=1\n",
    "        ligne+=1\n",
    "    return listeMurs\n"
   ]
  },
  {
   "cell_type": "code",
   "execution_count": 99,
   "metadata": {
    "collapsed": false
   },
   "outputs": [
   ],
   "source": [
    "lab = ( (cell_g(v,m,m,m,False),cell_g(m,v,v,m,False)) , (cell_g(m,m,v,m,False),cell_g(m,m,v,v,False)) , (cell_g(v,m,m,v,False),cell_g(m,v,m,v,False)))"
   ]
  },
  {
   "cell_type": "code",
   "execution_count": 100,
   "metadata": {
    "collapsed": false,
    "scrolled": true
   },
   "outputs": [
    {
     "name": "stdout",
     "output_type": "stream",
     "text": [
      "True\n",
      "True\n"
     ]
    },
    {
     "data": {
      "image/png": "[encoded data removed]",
      "text/plain": [
       "Graphics object consisting of 20 graphics primitives"
      ]
     },
     "execution_count": 100,
     "metadata": {
     },
     "output_type": "execute_result"
    }
   ],
   "source": [
    "print verifiePseudoLab(lab)\n",
    "print verifieConnexitee(lab)\n",
    "afficheLabCel(lab,2,2)"
   ]
  },
  {
   "cell_type": "code",
   "execution_count": 101,
   "metadata": {
    "collapsed": false
   },
   "outputs": [
    {
     "name": "stdout",
     "output_type": "stream",
     "text": [
      "False\n",
      "(1, 0)\n"
     ]
    }
   ],
   "source": [
    "vu = [(0,0), (1,0)]\n",
    "print ((2,0) in vu)\n",
    "print vu[len(vu)-1]"
   ]
  },
  {
   "cell_type": "code",
   "execution_count": 102,
   "metadata": {
    "collapsed": false
   },
   "outputs": [
    {
     "data": {
      "text/plain": [
       "True"
      ]
     },
     "execution_count": 102,
     "metadata": {
     },
     "output_type": "execute_result"
    }
   ],
   "source": [
    "verifieCellsLab(lab)"
   ]
  },
  {
   "cell_type": "code",
   "execution_count": 103,
   "metadata": {
    "collapsed": false
   },
   "outputs": [
   ],
   "source": [
    "def addEdge(lab,(x,y),(x2,y2)):\n",
    "    x = x\n",
    "    y = y\n",
    "    x2 = x2\n",
    "    y2 = y2\n",
    "    if x == x2:\n",
    "        if y == y2:\n",
    "            return\n",
    "        else:\n",
    "            for i in range(y,y2):\n",
    "                if x < len(lab):\n",
    "                    lab[x][i].h = True\n",
    "                if x+1 < len(lab):\n",
    "                    lab[x+1][i].b = True\n",
    "    else:\n",
    "        if y == y2:\n",
    "            for i in range(x,x2):\n",
    "                if y < len(lab[i]):\n",
    "                    lab[i][y-1].d = True\n",
    "                if y+1 < len(lab[i]):\n",
    "                    lab[i][y].g = True\n",
    "        else:\n",
    "            return"
   ]
  },
  {
   "cell_type": "code",
   "execution_count": 104,
   "metadata": {
    "collapsed": false
   },
   "outputs": [
   ],
   "source": [
    "def neighbors(G,u):\n",
    "    neighbors = []\n",
    "    if u[0] < G[0]-1:\n",
    "        neighbors.append((u[0] + 1, u[1]))\n",
    "    if u[1] < G[1]-1:\n",
    "        neighbors.append((u[0], u[1]+1))\n",
    "    return neighbors"
   ]
  },
  {
   "cell_type": "code",
   "execution_count": 105,
   "metadata": {
    "collapsed": false
   },
   "outputs": [
   ],
   "source": [
    "def generateEmptyLab(m,n):\n",
    "    EL =[]\n",
    "    for i in range(m):\n",
    "        line = []\n",
    "        for j in range(n):\n",
    "            line.append(cell(False,False,False,False))\n",
    "        EL.append(line)\n",
    "    return EL"
   ]
  },
  {
   "cell_type": "code",
   "execution_count": 106,
   "metadata": {
    "collapsed": false
   },
   "outputs": [
   ],
   "source": [
    "def generateEmptyLabWithEnceint(m,n):\n",
    "    EL =[]\n",
    "    for i in range(m):\n",
    "        line = []\n",
    "        for j in range(n):\n",
    "            newEmptyCell = cell(False,False,False,False)\n",
    "            if i == 0:\n",
    "                newEmptyCell.b = True\n",
    "            if i == m-1:\n",
    "                newEmptyCell.h = True\n",
    "            if j == 0:\n",
    "                newEmptyCell.g = True\n",
    "            if j == n-1:\n",
    "                newEmptyCell.d = True\n",
    "            line.append(newEmptyCell)\n",
    "        EL.append(line)\n",
    "    return EL"
   ]
  },
  {
   "cell_type": "code",
   "execution_count": 107,
   "metadata": {
    "collapsed": false
   },
   "outputs": [
    {
     "data": {
      "image/png": "[encoded data removed]",
      "text/plain": [
       "Graphics object consisting of 32 graphics primitives"
      ]
     },
     "execution_count": 107,
     "metadata": {
     },
     "output_type": "execute_result"
    },
    {
     "name": "stdout",
     "output_type": "stream",
     "text": [
      "3 3\n"
     ]
    }
   ],
   "source": [
    "afficheLabCel(generateEmptyLabWithEnceint(4,4),2,2).show()\n",
    "print(str(len(generateEmptyLabWithEnceint(3,3)))+\" \"+str(len(generateEmptyLabWithEnceint(3,3)[0])))"
   ]
  },
  {
   "cell_type": "code",
   "execution_count": 108,
   "metadata": {
    "collapsed": false
   },
   "outputs": [
   ],
   "source": [
    "def generate_lab_prof(m,n):\n",
    "    G = (m,n)\n",
    "    vu = set()\n",
    "    L = [] # insérer : L.append( ), retirer : L.popleft()\n",
    "    A = generateEmptyLabWithEnceint(m,n) # le graphe de notre labyrinthe\n",
    "\n",
    "    vu.add((0,0))\n",
    "    L.append((0,0))\n",
    "\n",
    "    while len(L)>0:\n",
    "        u = L[0]\n",
    "        L.remove(u)\n",
    "        for v in neighbors(G,u):\n",
    "            if v not in vu:\n",
    "                L.append(v)\n",
    "                vu.add(v)\n",
    "                addEdge(A,u,v)\n",
    "\n",
    "    return A"
   ]
  },
  {
   "cell_type": "code",
   "execution_count": 109,
   "metadata": {
    "collapsed": false
   },
   "outputs": [
    {
     "data": {
      "image/png": "[encoded data removed]",
      "text/plain": [
       "Graphics object consisting of 29 graphics primitives"
      ]
     },
     "execution_count": 109,
     "metadata": {
     },
     "output_type": "execute_result"
    }
   ],
   "source": [
    "#((4, 0), (4, 1))\n",
    "afficheLabCel(generate_lab_prof(3,3),2,2)"
   ]
  },
  {
   "cell_type": "code",
   "execution_count": 110,
   "metadata": {
    "collapsed": false
   },
   "outputs": [
    {
     "data": {
      "image/png": "[encoded data removed]",
      "text/plain": [
       "Graphics object consisting of 55 graphics primitives"
      ]
     },
     "execution_count": 110,
     "metadata": {
     },
     "output_type": "execute_result"
    }
   ],
   "source": [
    "test_lab = generateEmptyLabWithEnceint(5,5)\n",
    "addEdge(test_lab,(3,0),(3,5))\n",
    "afficheLabCel(test_lab,2,2)"
   ]
  },
  {
   "cell_type": "code",
   "execution_count": 111,
   "metadata": {
    "collapsed": false
   },
   "outputs": [
    {
     "data": {
      "image/png": "[encoded data removed]",
      "text/plain": [
       "Graphics object consisting of 32 graphics primitives"
      ]
     },
     "execution_count": 111,
     "metadata": {
     },
     "output_type": "execute_result"
    },
    {
     "name": "stdout",
     "output_type": "stream",
     "text": [
      "True\n"
     ]
    }
   ],
   "source": [
    "labProfmn = generate_lab_prof(2,5)\n",
    "afficheLabCel(labProfmn,2,2).show()\n",
    "print(verifieLab(labProfmn))"
   ]
  },
  {
   "cell_type": "code",
   "execution_count": 112,
   "metadata": {
    "collapsed": false
   },
   "outputs": [
    {
     "data": {
      "text/plain": [
       "[[(d:False, g:True, h:True, b:True),\n",
       "  (d:False, g:False, h:True, b:True),\n",
       "  (d:False, g:False, h:True, b:True),\n",
       "  (d:False, g:False, h:True, b:True),\n",
       "  (d:True, g:False, h:False, b:True)],\n",
       " [(d:False, g:True, h:True, b:True),\n",
       "  (d:False, g:False, h:True, b:True),\n",
       "  (d:False, g:False, h:True, b:True),\n",
       "  (d:False, g:False, h:True, b:True),\n",
       "  (d:True, g:False, h:True, b:False)]]"
      ]
     },
     "execution_count": 112,
     "metadata": {
     },
     "output_type": "execute_result"
    }
   ],
   "source": [
    "labProfmn"
   ]
  },
  {
   "cell_type": "code",
   "execution_count": 113,
   "metadata": {
    "collapsed": false
   },
   "outputs": [
    {
     "data": {
      "image/png": "[encoded data removed]",
      "text/plain": [
       "Graphics object consisting of 45 graphics primitives"
      ]
     },
     "execution_count": 113,
     "metadata": {
     },
     "output_type": "execute_result"
    },
    {
     "data": {
      "text/plain": [
       "True"
      ]
     },
     "execution_count": 113,
     "metadata": {
     },
     "output_type": "execute_result"
    }
   ],
   "source": [
    "EL = generateEmptyLabWithEnceint(5,5)\n",
    "addEdge(EL,(0, 0), (3, 0))\n",
    "afficheLabCel(EL,2,2).show()\n",
    "verifieConnexitee(generateEmptyLabWithEnceint(5,5))"
   ]
  },
  {
   "cell_type": "code",
   "execution_count": 114,
   "metadata": {
    "collapsed": false
   },
   "outputs": [
    {
     "data": {
      "image/png": "[encoded data removed]",
      "text/plain": [
       "Graphics object consisting of 83 graphics primitives"
      ]
     },
     "execution_count": 114,
     "metadata": {
     },
     "output_type": "execute_result"
    },
    {
     "name": "stdout",
     "output_type": "stream",
     "text": [
      "False\n"
     ]
    }
   ],
   "source": [
    "lab = generate_lab_prof(5,5)\n",
    "addEdge(lab,(0,2),(3,2))\n",
    "afficheLabCel(lab,2,2).show()\n",
    "print(verifieConnexitee(lab))"
   ]
  },
  {
   "cell_type": "code",
   "execution_count": 115,
   "metadata": {
    "collapsed": false
   },
   "outputs": [
    {
     "data": {
      "text/plain": [
       "False"
      ]
     },
     "execution_count": 115,
     "metadata": {
     },
     "output_type": "execute_result"
    }
   ],
   "source": [
    "verifieConnexitee(lab)"
   ]
  },
  {
   "cell_type": "code",
   "execution_count": 116,
   "metadata": {
    "collapsed": false
   },
   "outputs": [
   ],
   "source": [
    "def generateFullLabCell_g(n,m):\n",
    "    EL =[]\n",
    "    for i in range(m):\n",
    "        line = []\n",
    "        for j in range(n):\n",
    "            line.append(cell_g(True,True,True,True,False))\n",
    "        EL.append(line)\n",
    "    EL[m-1][n-1].linked = True\n",
    "    return EL"
   ]
  },
  {
   "cell_type": "code",
   "execution_count": 117,
   "metadata": {
    "collapsed": false
   },
   "outputs": [
   ],
   "source": [
    "def isValidChoice(lab,choice):\n",
    "    position = choice[0]\n",
    "    if choice ==  (position,Position(1,0)) and position.x < len(lab[0])-1 and lab[position.y][position.x].d and not lab[position.y][position.x+1].linked:\n",
    "        return True\n",
    "    if choice == (position,Position(-1,0)) and position.x > 0 and lab[position.y][position.x].g and not lab[position.y][position.x-1].linked:\n",
    "        return True\n",
    "    if choice == (position,Position(0,1)) and position.y < len(lab)-1 and lab[position.y][position.x].h and not lab[position.y+1][position.x].linked:\n",
    "        return True\n",
    "    if choice == (position,Position(0,-1)) and position.y > 0 and lab[position.y][position.x].b and not lab[position.y-1][position.x].linked:\n",
    "        return True\n",
    "    return False"
   ]
  },
  {
   "cell_type": "code",
   "execution_count": 118,
   "metadata": {
    "collapsed": false
   },
   "outputs": [
   ],
   "source": [
    "def getChoices(lab,position):\n",
    "    choices = []\n",
    "    if position.x < len(lab[0])-1 and lab[position.y][position.x].d and not lab[position.y][position.x+1].linked:\n",
    "        choices.append((position,Position(1,0)))\n",
    "    if position.x > 0 and lab[position.y][position.x].g and not lab[position.y][position.x-1].linked:\n",
    "        choices.append((position,Position(-1,0)))\n",
    "    if position.y < len(lab)-1 and lab[position.y][position.x].h and not lab[position.y+1][position.x].linked:\n",
    "        choices.append((position,Position(0,1)))\n",
    "    if position.y > 0 and lab[position.y][position.x].b and not lab[position.y-1][position.x].linked:\n",
    "        choices.append((position,Position(0,-1)))\n",
    "    return choices"
   ]
  },
  {
   "cell_type": "code",
   "execution_count": 119,
   "metadata": {
    "collapsed": false
   },
   "outputs": [
   ],
   "source": [
    "def getBackToAChoice(lab,path):\n",
    "    i = len(path) - 1\n",
    "    while(not getChoices(lab,path[i])):\n",
    "        i-=1\n",
    "        path.append(path[i])\n",
    "    return path"
   ]
  },
  {
   "cell_type": "code",
   "execution_count": 120,
   "metadata": {
    "collapsed": false
   },
   "outputs": [
   ],
   "source": [
    "def allLinked(labCell_g):\n",
    "    for i in labCell_g:\n",
    "        for j in i:\n",
    "            if not j.linked:\n",
    "                return False\n",
    "    return True"
   ]
  },
  {
   "cell_type": "code",
   "execution_count": 121,
   "metadata": {
    "collapsed": false
   },
   "outputs": [
   ],
   "source": [
    "def link(lab,(position,move)):\n",
    "    cellBase = lab[position.y][position.x]\n",
    "    positionGoal = position + move\n",
    "    cellGoal = lab[positionGoal.y][positionGoal.x]\n",
    "    cellGoal.linked = True\n",
    "    if move == Position(1,0):\n",
    "        cellBase.d = False\n",
    "        cellGoal.g = False\n",
    "    if move == Position(-1,0):\n",
    "        cellBase.g = False\n",
    "        cellGoal.d = False\n",
    "    if move == Position(0,1):\n",
    "        cellBase.h = False\n",
    "        cellGoal.b = False\n",
    "    if move == Position(0,-1):\n",
    "        cellBase.b = False\n",
    "        cellGoal.h = False\n",
    "    return (position+move)"
   ]
  },
  {
   "cell_type": "code",
   "execution_count": 122,
   "metadata": {
    "collapsed": false
   },
   "outputs": [
   ],
   "source": [
    "\"premiere iteration\"\n",
    "import random\n",
    "def generateOneLabCell_g(m,n):\n",
    "    lab  = generateFullLabCell_g(m,n)\n",
    "    pos  = Position(m-1,n-1)\n",
    "    path = [pos]\n",
    "    while(not allLinked(lab)):\n",
    "        pos = path[len(path)-1]\n",
    "        choices = getChoices(lab,pos)\n",
    "        if choices:\n",
    "            if len(choices)>1:\n",
    "                choice = choices[ random.randint(0, len(choices)-1)]\n",
    "            else:\n",
    "                choice = choices[0]\n",
    "            link(lab,choice)\n",
    "            path.append(choice[0] + choice[1])\n",
    "        else:\n",
    "            path = getBackToAChoice(lab,path)\n",
    "    return lab"
   ]
  },
  {
   "cell_type": "code",
   "execution_count": 123,
   "metadata": {
    "collapsed": false
   },
   "outputs": [
   ],
   "source": [
    "def getBackToAValidChoice(lab,possibilities):\n",
    "    toIterate = tuple(possibilities)\n",
    "    for choice in toIterate:\n",
    "        if isValidChoice(lab,choice):\n",
    "            possibilities.remove(choice)\n",
    "            return choice\n",
    "        else:\n",
    "            possibilities.remove(choice)"
   ]
  },
  {
   "cell_type": "code",
   "execution_count": 124,
   "metadata": {
    "collapsed": false
   },
   "outputs": [
   ],
   "source": [
    "def newPos(lastChoice):\n",
    "    return lastChoice[0] + lastChoice[1]"
   ]
  },
  {
   "cell_type": "code",
   "execution_count": 125,
   "metadata": {
    "collapsed": false
   },
   "outputs": [
   ],
   "source": [
    "def howManyIn(choice,keptComparativePathes):\n",
    "    if not keptComparativePathes:\n",
    "        return 0\n",
    "    tot = 0\n",
    "    for i in keptComparativePathes:\n",
    "        if choice in i:\n",
    "            tot +=1\n",
    "    return tot"
   ]
  },
  {
   "cell_type": "code",
   "execution_count": 126,
   "metadata": {
    "collapsed": false
   },
   "outputs": [
    {
     "data": {
      "text/plain": [
       "2"
      ]
     },
     "execution_count": 126,
     "metadata": {
     },
     "output_type": "execute_result"
    }
   ],
   "source": [
    "howManyIn(((0,1),(0,1)),[[((0,1),(0,1))],[((0,1),(0,1))]])"
   ]
  },
  {
   "cell_type": "code",
   "execution_count": 127,
   "metadata": {
    "collapsed": false
   },
   "outputs": [
   ],
   "source": [
    "def listClear(l):\n",
    "    while len(l):\n",
    "        l.pop(0)"
   ]
  },
  {
   "cell_type": "code",
   "execution_count": 128,
   "metadata": {
    "collapsed": false
   },
   "outputs": [
   ],
   "source": [
    "def removePathWithChoice(keptComparativePathes,choiceCritter):\n",
    "    kcp2 = list(keptComparativePathes)\n",
    "    for item in kcp2:\n",
    "        if choiceCritter not in item:\n",
    "            keptComparativePathes.remove(item)"
   ]
  },
  {
   "cell_type": "code",
   "execution_count": 129,
   "metadata": {
    "collapsed": false
   },
   "outputs": [
   ],
   "source": [
    "def chose(lab,keptComparativePathes,possibilities,position):\n",
    "    finalChoices = []\n",
    "    choices = getChoices(lab,position)\n",
    "    numberOfSameOldChoices = 0\n",
    "    if choices:\n",
    "            thereIsAlreadyAFinalChoice = False\n",
    "            for choice in choices:\n",
    "                howMany = howManyIn(choice,keptComparativePathes)\n",
    "                numberOfSameOldChoices += howMany\n",
    "                #print(\"|\"+str(howMany)+\",\"+str(choice)+','+str(keptComparativePathes)+\"|\")\n",
    "                if howMany==0:\n",
    "                    listClear(keptComparativePathes)\n",
    "                    finalChoices.append(choice)\n",
    "    else:\n",
    "        finalChoices.append(getBackToAValidChoice(lab,possibilities))\n",
    "\n",
    "    if not finalChoices:\n",
    "        finalChoices = [choices[numberOfSameOldChoices%len(choices)]]\n",
    "        removePathWithChoice(keptComparativePathes,choice)\n",
    "    return finalChoices"
   ]
  },
  {
   "cell_type": "code",
   "execution_count": 130,
   "metadata": {
    "collapsed": false
   },
   "outputs": [
   ],
   "source": [
    "def removeNotValidChoices(lab,possibilities):\n",
    "    poss2 = list(possibilities)\n",
    "    for item in poss2:\n",
    "        if not isValidChoice(lab,item):\n",
    "            possibilities.remove(item)"
   ]
  },
  {
   "cell_type": "code",
   "execution_count": 131,
   "metadata": {
    "collapsed": false
   },
   "outputs": [
   ],
   "source": [
    "def generateDifferentLabCell_g(m,n,comparativePathes):\n",
    "    keptComparativePathes = list(comparativePathes) #pour ne pas le modifier (la modification se fait dans la fonction chose)\n",
    "    lab  = generateFullLabCell_g(m,n)\n",
    "    pos  = Position(m-1,n-1)\n",
    "    possibilities = []\n",
    "    choicesMade = []\n",
    "    i = 0\n",
    "    while(not allLinked(lab)):\n",
    "        choicesPossible = chose(lab,keptComparativePathes,possibilities,pos) #print\n",
    "        print keptComparativePathes\n",
    "        finalChoice = choicesPossible.pop(0)\n",
    "        for i in choicesPossible:\n",
    "                possibilities.append(i)\n",
    "        choicesMade.append(finalChoice)\n",
    "\n",
    "        afficheLabCel(lab,2,2)\n",
    "        link(lab,finalChoice)\n",
    "        pos = newPos(finalChoice)\n",
    "    comparativePathes.append(choicesMade)\n",
    "    return lab"
   ]
  },
  {
   "cell_type": "code",
   "execution_count": 132,
   "metadata": {
    "collapsed": false
   },
   "outputs": [
   ],
   "source": [
    "def chose2(lab,possibilities,position):\n",
    "    finalChoices = []\n",
    "    finalChoices = getChoices(lab,position)\n",
    "    removeNotValidChoices(lab,possibilities)\n",
    "    for i in possibilities:\n",
    "        finalChoices.append(i)\n",
    "    return finalChoices"
   ]
  },
  {
   "cell_type": "code",
   "execution_count": 133,
   "metadata": {
    "collapsed": false
   },
   "outputs": [
   ],
   "source": [
    "def generateAllLabs(m,n):\n",
    "    comparativePathes = []\n",
    "    labs =[]\n",
    "    for i in range(10):\n",
    "        labs.append(generateDifferentLabCell_g(m,n,comparativePathes))\n",
    "        print(\" \")\n",
    "        print(comparativePathes)\n",
    "        print(\" \")\n",
    "        afficheLabCel(labs[len(labs)-1],2,2).show()\n",
    "    return labs"
   ]
  },
  {
   "cell_type": "code",
   "execution_count": 134,
   "metadata": {
    "collapsed": false
   },
   "outputs": [
   ],
   "source": [
    "def generateRandomLabCell_g(m,n):\n",
    "    lab  = generateFullLabCell_g(m,n)\n",
    "    pos  = Position(m-1,n-1)\n",
    "    possibilities = []\n",
    "    while(not allLinked(lab)):\n",
    "        newChoices = getChoices(lab,pos)\n",
    "        choiceIndex = random.randint(0, len(possibilities)+len(newChoices)-1)\n",
    "        if choiceIndex < len(possibilities):\n",
    "            finalChoice = possibilities.pop(choiceIndex)\n",
    "        else:\n",
    "            finalChoice = newChoices.pop(choiceIndex - len(possibilities))\n",
    "        link(lab,finalChoice)\n",
    "        for i in newChoices:\n",
    "            possibilities.append(i)\n",
    "        pos = newPos(finalChoice)\n",
    "        removeNotValidChoices(lab,possibilities)\n",
    "    return lab"
   ]
  },
  {
   "cell_type": "code",
   "execution_count": 135,
   "metadata": {
    "collapsed": false
   },
   "outputs": [
    {
     "data": {
      "text/plain": [
       "2"
      ]
     },
     "execution_count": 135,
     "metadata": {
     },
     "output_type": "execute_result"
    }
   ],
   "source": [
    "(generateRandomLabCell_g(50,50))\n",
    "2"
   ]
  },
  {
   "cell_type": "code",
   "execution_count": 136,
   "metadata": {
    "collapsed": false
   },
   "outputs": [
    {
     "data": {
      "text/plain": [
       "2"
      ]
     },
     "execution_count": 136,
     "metadata": {
     },
     "output_type": "execute_result"
    }
   ],
   "source": [
    "generateRandomLabCell_g(4,4)\n",
    "2"
   ]
  },
  {
   "cell_type": "code",
   "execution_count": 137,
   "metadata": {
    "collapsed": false
   },
   "outputs": [
   ],
   "source": [
    "def egalCell(cell1,cell2):\n",
    "    for cw,cellWall in cell1[0]:\n",
    "        if cellWall != cell2[cw]:\n",
    "            return False\n",
    "    return True"
   ]
  },
  {
   "cell_type": "code",
   "execution_count": 138,
   "metadata": {
    "collapsed": false
   },
   "outputs": [
   ],
   "source": [
    "def egalLab(l1,l2):\n",
    "    if(len(l1)==len(l2) and len(l1[0])==len(l2[0])):\n",
    "        for cl,line in enumerate(l1):\n",
    "            for cc,cell in enumerate(line):\n",
    "                if not cell == l2[cl][cc]:\n",
    "                    return False\n",
    "    else:\n",
    "        return False\n",
    "    return True"
   ]
  },
  {
   "cell_type": "code",
   "execution_count": 139,
   "metadata": {
    "collapsed": false
   },
   "outputs": [
   ],
   "source": [
    "def labInLabs(lab,labs):\n",
    "    for i in labs:\n",
    "        if egalLab(i,lab):\n",
    "            return True\n",
    "    return False"
   ]
  },
  {
   "cell_type": "code",
   "execution_count": 140,
   "metadata": {
    "collapsed": false
   },
   "outputs": [
   ],
   "source": [
    "def symHCell_g(cell):\n",
    "    return cell_g(cell.d,cell.g,cell.b,cell.h,cell.linked)"
   ]
  },
  {
   "cell_type": "code",
   "execution_count": 141,
   "metadata": {
    "collapsed": false
   },
   "outputs": [
   ],
   "source": [
    "import copy\n",
    "def symHLab(lab):\n",
    "    symLabSource = copy.deepcopy(lab)\n",
    "    symLab = copy.deepcopy(lab)\n",
    "    lenLab = len(lab)-1\n",
    "    for cl,line in enumerate(symLabSource):\n",
    "        for cc,cellRef in enumerate(line):\n",
    "            symLab[lenLab - cl][cc] = symHCell_g(cellRef)\n",
    "    return symLab"
   ]
  },
  {
   "cell_type": "code",
   "execution_count": 142,
   "metadata": {
    "collapsed": false,
    "scrolled": true
   },
   "outputs": [
    {
     "name": "stdout",
     "output_type": "stream",
     "text": [
      "{(d:False, g:True, h:True, b:True),True}\n"
     ]
    },
    {
     "data": {
      "image/png": "[encoded data removed]",
      "text/plain": [
       "Graphics object consisting of 47 graphics primitives"
      ]
     },
     "execution_count": 142,
     "metadata": {
     },
     "output_type": "execute_result"
    },
    {
     "data": {
      "image/png": "[encoded data removed]",
      "text/plain": [
       "Graphics object consisting of 47 graphics primitives"
      ]
     },
     "execution_count": 142,
     "metadata": {
     },
     "output_type": "execute_result"
    }
   ],
   "source": [
    "lab = generateRandomLabCell_g(3,5)\n",
    "print(lab[0][0])\n",
    "symLab = symHLab(lab)\n",
    "afficheLabCel(lab,2,2).show()\n",
    "afficheLabCel(symLab,2,2).show()"
   ]
  },
  {
   "cell_type": "code",
   "execution_count": 143,
   "metadata": {
    "collapsed": false
   },
   "outputs": [
   ],
   "source": [
    "def symVCell_g(cell):\n",
    "    return cell_g(cell.g,cell.d,cell.h,cell.b,cell.linked)"
   ]
  },
  {
   "cell_type": "code",
   "execution_count": 144,
   "metadata": {
    "collapsed": false
   },
   "outputs": [
   ],
   "source": [
    "import copy\n",
    "def symVLab(lab):\n",
    "    symLabSource = copy.deepcopy(lab)\n",
    "    symLab = copy.deepcopy(lab)\n",
    "    lenLab = len(lab[0])-1\n",
    "    for cl,line in enumerate(symLabSource):\n",
    "        for cc,cellRef in enumerate(line):\n",
    "            symLab[cl][lenLab - cc] = symVCell_g(cellRef)\n",
    "    return symLab"
   ]
  },
  {
   "cell_type": "code",
   "execution_count": 145,
   "metadata": {
    "collapsed": false,
    "scrolled": true
   },
   "outputs": [
    {
     "name": "stdout",
     "output_type": "stream",
     "text": [
      "{(d:False, g:True, h:True, b:True),True}\n"
     ]
    },
    {
     "data": {
      "image/png": "[encoded data removed]",
      "text/plain": [
       "Graphics object consisting of 47 graphics primitives"
      ]
     },
     "execution_count": 145,
     "metadata": {
     },
     "output_type": "execute_result"
    },
    {
     "data": {
      "image/png": "[encoded data removed]",
      "text/plain": [
       "Graphics object consisting of 47 graphics primitives"
      ]
     },
     "execution_count": 145,
     "metadata": {
     },
     "output_type": "execute_result"
    }
   ],
   "source": [
    "lab = generateRandomLabCell_g(3,5)\n",
    "print(lab[0][0])\n",
    "symLab = symVLab(lab)\n",
    "afficheLabCel(lab,2,2).show()\n",
    "afficheLabCel(symLab,2,2).show()"
   ]
  },
  {
   "cell_type": "code",
   "execution_count": 146,
   "metadata": {
    "collapsed": false
   },
   "outputs": [
   ],
   "source": [
    "def rotatePlusCell_g(cell):\n",
    "    return cell_g(cell.b,cell.h,cell.d,cell.g,cell.linked)"
   ]
  },
  {
   "cell_type": "code",
   "execution_count": 147,
   "metadata": {
    "collapsed": false,
    "scrolled": true
   },
   "outputs": [
    {
     "data": {
      "image/png": "[encoded data removed]",
      "text/plain": [
       "Graphics object consisting of 4 graphics primitives"
      ]
     },
     "execution_count": 147,
     "metadata": {
     },
     "output_type": "execute_result"
    },
    {
     "data": {
      "image/png": "[encoded data removed]",
      "text/plain": [
       "Graphics object consisting of 4 graphics primitives"
      ]
     },
     "execution_count": 147,
     "metadata": {
     },
     "output_type": "execute_result"
    }
   ],
   "source": [
    "cell = cell_g(False,True,True,True,True)\n",
    "cell.affiche(2,2,1).show()\n",
    "cell2 = rotatePlusCell_g((cell))\n",
    "cell2.affiche(2,2,1).show()"
   ]
  },
  {
   "cell_type": "code",
   "execution_count": 148,
   "metadata": {
    "collapsed": false
   },
   "outputs": [
   ],
   "source": [
    "import copy\n",
    "def rotatePlusSquareLab(lab):\n",
    "    rotLabSource = copy.deepcopy(lab)\n",
    "    rotLab = copy.deepcopy(lab)\n",
    "    lenLab = len(lab)-1\n",
    "    for cl,line in enumerate(rotLabSource):\n",
    "        for cc,cellRef in enumerate(line):\n",
    "            rotLab[cc][lenLab-cl] = rotatePlusCell_g(cellRef)\n",
    "    return rotLab"
   ]
  },
  {
   "cell_type": "code",
   "execution_count": 149,
   "metadata": {
    "collapsed": false
   },
   "outputs": [
    {
     "name": "stdout",
     "output_type": "stream",
     "text": [
      "{(d:False, g:True, h:True, b:True),True}\n"
     ]
    },
    {
     "data": {
      "image/png": "[encoded data removed]",
      "text/plain": [
       "Graphics object consisting of 29 graphics primitives"
      ]
     },
     "execution_count": 149,
     "metadata": {
     },
     "output_type": "execute_result"
    },
    {
     "data": {
      "image/png": "[encoded data removed]",
      "text/plain": [
       "Graphics object consisting of 29 graphics primitives"
      ]
     },
     "execution_count": 149,
     "metadata": {
     },
     "output_type": "execute_result"
    }
   ],
   "source": [
    "lab = generateRandomLabCell_g(3,3)\n",
    "print(lab[0][0])\n",
    "rotLab = rotatePlusSquareLab(rotatePlusSquareLab(rotatePlusSquareLab(lab)))\n",
    "afficheLabCel(lab,2,2).show()\n",
    "afficheLabCel(rotLab,2,2).show()"
   ]
  },
  {
   "cell_type": "code",
   "execution_count": 150,
   "metadata": {
    "collapsed": false
   },
   "outputs": [
   ],
   "source": [
    "def rotateMoinsCell_g(cell):\n",
    "    return cell_g(cell.h,cell.b,cell.g,cell.d,cell.linked)"
   ]
  },
  {
   "cell_type": "code",
   "execution_count": 151,
   "metadata": {
    "collapsed": false
   },
   "outputs": [
    {
     "data": {
      "image/png": "[encoded data removed]",
      "text/plain": [
       "Graphics object consisting of 3 graphics primitives"
      ]
     },
     "execution_count": 151,
     "metadata": {
     },
     "output_type": "execute_result"
    },
    {
     "data": {
      "image/png": "[encoded data removed]",
      "text/plain": [
       "Graphics object consisting of 3 graphics primitives"
      ]
     },
     "execution_count": 151,
     "metadata": {
     },
     "output_type": "execute_result"
    }
   ],
   "source": [
    "cell = cell_g(True,False,False,True,True)\n",
    "cell.affiche(2,2,1).show()\n",
    "cell2 = rotateMoinsCell_g((cell))\n",
    "cell2.affiche(2,2,1).show()"
   ]
  },
  {
   "cell_type": "code",
   "execution_count": 152,
   "metadata": {
    "collapsed": false
   },
   "outputs": [
   ],
   "source": [
    "import copy\n",
    "def rotateMoinsSquareLab(lab):\n",
    "    rotLabSource = copy.deepcopy(lab)\n",
    "    rotLab = copy.deepcopy(lab)\n",
    "    lenLab = len(lab)-1\n",
    "    for cl,line in enumerate(rotLabSource):\n",
    "        for cc,cellRef in enumerate(line):\n",
    "            rotLab[lenLab - cc][cl] = rotateMoinsCell_g(cellRef)\n",
    "    return rotLab"
   ]
  },
  {
   "cell_type": "code",
   "execution_count": 153,
   "metadata": {
    "collapsed": false,
    "scrolled": true
   },
   "outputs": [
    {
     "name": "stdout",
     "output_type": "stream",
     "text": [
      "{(d:False, g:True, h:True, b:True),True}\n"
     ]
    },
    {
     "data": {
      "image/png": "[encoded data removed]",
      "text/plain": [
       "Graphics object consisting of 50 graphics primitives"
      ]
     },
     "execution_count": 153,
     "metadata": {
     },
     "output_type": "execute_result"
    },
    {
     "data": {
      "image/png": "[encoded data removed]",
      "text/plain": [
       "Graphics object consisting of 50 graphics primitives"
      ]
     },
     "execution_count": 153,
     "metadata": {
     },
     "output_type": "execute_result"
    }
   ],
   "source": [
    "lab = generateRandomLabCell_g(4,4)\n",
    "print(lab[0][0])\n",
    "rotLab = rotateMoinsSquareLab(lab)\n",
    "afficheLabCel(lab,2,2).show()\n",
    "afficheLabCel(rotLab,2,2).show()"
   ]
  },
  {
   "cell_type": "code",
   "execution_count": 154,
   "metadata": {
    "collapsed": false,
    "scrolled": true
   },
   "outputs": [
    {
     "name": "stdout",
     "output_type": "stream",
     "text": [
      "{(d:True, g:True, h:False, b:True),True}\n"
     ]
    },
    {
     "data": {
      "image/png": "[encoded data removed]",
      "text/plain": [
       "Graphics object consisting of 50 graphics primitives"
      ]
     },
     "execution_count": 154,
     "metadata": {
     },
     "output_type": "execute_result"
    },
    {
     "data": {
      "image/png": "[encoded data removed]",
      "text/plain": [
       "Graphics object consisting of 50 graphics primitives"
      ]
     },
     "execution_count": 154,
     "metadata": {
     },
     "output_type": "execute_result"
    }
   ],
   "source": [
    "lab = generateRandomLabCell_g(4,4)\n",
    "print(lab[0][0])\n",
    "invLab   = symVLab(symHLab(lab))\n",
    "afficheLabCel(lab,2,2).show()\n",
    "afficheLabCel(invLab,2,2).show()"
   ]
  },
  {
   "cell_type": "code",
   "execution_count": 155,
   "metadata": {
    "collapsed": false,
    "scrolled": true
   },
   "outputs": [
    {
     "name": "stdout",
     "output_type": "stream",
     "text": [
      "{(d:False, g:True, h:True, b:True),True}\n"
     ]
    },
    {
     "data": {
      "image/png": "[encoded data removed]",
      "text/plain": [
       "Graphics object consisting of 50 graphics primitives"
      ]
     },
     "execution_count": 155,
     "metadata": {
     },
     "output_type": "execute_result"
    },
    {
     "data": {
      "image/png": "[encoded data removed]",
      "text/plain": [
       "Graphics object consisting of 50 graphics primitives"
      ]
     },
     "execution_count": 155,
     "metadata": {
     },
     "output_type": "execute_result"
    }
   ],
   "source": [
    "lab = generateRandomLabCell_g(4,4)\n",
    "print(lab[0][0])\n",
    "rotSymLab = symVLab(rotatePlusSquareLab(lab))\n",
    "afficheLabCel(lab,2,2).show()\n",
    "afficheLabCel(rotSymLab,2,2).show()"
   ]
  },
  {
   "cell_type": "code",
   "execution_count": 156,
   "metadata": {
    "collapsed": false,
    "scrolled": true
   },
   "outputs": [
    {
     "name": "stdout",
     "output_type": "stream",
     "text": [
      "{(d:False, g:True, h:True, b:True),True}\n"
     ]
    },
    {
     "data": {
      "image/png": "[encoded data removed]",
      "text/plain": [
       "Graphics object consisting of 50 graphics primitives"
      ]
     },
     "execution_count": 156,
     "metadata": {
     },
     "output_type": "execute_result"
    },
    {
     "data": {
      "image/png": "[encoded data removed]",
      "text/plain": [
       "Graphics object consisting of 50 graphics primitives"
      ]
     },
     "execution_count": 156,
     "metadata": {
     },
     "output_type": "execute_result"
    }
   ],
   "source": [
    "lab = generateRandomLabCell_g(4,4)\n",
    "print(lab[0][0])\n",
    "rotSymLab = symVLab(rotateMoinsSquareLab(lab))\n",
    "afficheLabCel(lab,2,2).show()\n",
    "afficheLabCel(rotSymLab,2,2).show()"
   ]
  },
  {
   "cell_type": "code",
   "execution_count": 157,
   "metadata": {
    "collapsed": false
   },
   "outputs": [
   ],
   "source": [
    "def tryToAddLabs(labs,lab):\n",
    "    if not labInLabs(lab,labs):\n",
    "            labs.append(lab)\n",
    "            return True\n",
    "    else:\n",
    "            return False"
   ]
  },
  {
   "cell_type": "code",
   "execution_count": 158,
   "metadata": {
    "collapsed": false
   },
   "outputs": [
   ],
   "source": [
    "def generateRandomlyAllLabs(m,n,maxRepetition):\n",
    "    labs = []\n",
    "    labDiff = 0\n",
    "    isSquare = m==n\n",
    "    while(labDiff < maxRepetition):\n",
    "        lab = generateRandomLabCell_g(m,n)\n",
    "        if tryToAddLabs(labs,lab):\n",
    "            labDiff = 0\n",
    "            tryToAddLabs(labs,symHLab(lab))\n",
    "            tryToAddLabs(labs,symVLab(lab))\n",
    "            tryToAddLabs(labs,symVLab(symHLab(lab)))\n",
    "            if isSquare:\n",
    "                tryToAddLabs(labs,rotatePlusSquareLab(lab))\n",
    "                tryToAddLabs(labs,rotateMoinsSquareLab(lab))\n",
    "                tryToAddLabs(labs,symVLab(rotatePlusSquareLab(lab)))\n",
    "                tryToAddLabs(labs,symVLab(rotateMoinsSquareLab(lab)))\n",
    "        else:\n",
    "            labDiff +=1\n",
    "    print(len(labs))\n",
    "    return labs"
   ]
  },
  {
   "cell_type": "code",
   "execution_count": 159,
   "metadata": {
    "collapsed": false
   },
   "outputs": [
   ],
   "source": [
    "def generateRandomlyAllLabsFromExistingLabs(m,n,maxRepetition,labs):\n",
    "    labDiff = 0\n",
    "    isSquare = m==n\n",
    "    while(labDiff < maxRepetition):\n",
    "        lab = generateRandomLabCell_g(m,n)\n",
    "        if tryToAddLabs(labs,lab):\n",
    "            labDiff = 0\n",
    "            tryToAddLabs(labs,symHLab(lab))\n",
    "            tryToAddLabs(labs,symVLab(lab))\n",
    "            tryToAddLabs(labs,symVLab(symHLab(lab)))\n",
    "            if isSquare:\n",
    "                tryToAddLabs(labs,rotatePlusSquareLab(lab))\n",
    "                tryToAddLabs(labs,rotateMoinsSquareLab(lab))\n",
    "                tryToAddLabs(labs,symVLab(rotatePlusSquareLab(lab)))\n",
    "                tryToAddLabs(labs,symVLab(rotateMoinsSquareLab(lab)))\n",
    "        else:\n",
    "            labDiff +=1\n",
    "    print(len(labs))"
   ]
  },
  {
   "cell_type": "code",
   "execution_count": 160,
   "metadata": {
    "collapsed": false
   },
   "outputs": [
   ],
   "source": [
    "def generateRandomlyAllLabsWithNonSymmetricalGeneration(m,n,maxRepetition):\n",
    "    labs = []\n",
    "    labDiff = 0\n",
    "    isSquare = m==n\n",
    "    while(labDiff < maxRepetition):\n",
    "        lab = generateOneLabCell_g(m,n)\n",
    "        if tryToAddLabs(labs,lab):\n",
    "            labDiff = 0\n",
    "            tryToAddLabs(labs,symHLab(lab))\n",
    "            tryToAddLabs(labs,symVLab(lab))\n",
    "            tryToAddLabs(labs,symVLab(symHLab(lab)))\n",
    "            if isSquare:\n",
    "                tryToAddLabs(labs,rotatePlusSquareLab(lab))\n",
    "                tryToAddLabs(labs,rotateMoinsSquareLab(lab))\n",
    "                tryToAddLabs(labs,symVLab(rotatePlusSquareLab(lab)))\n",
    "                tryToAddLabs(labs,symVLab(rotateMoinsSquareLab(lab)))\n",
    "        else:\n",
    "            labDiff +=1\n",
    "    print(len(labs))\n",
    "    return labs"
   ]
  },
  {
   "cell_type": "code",
   "execution_count": 161,
   "metadata": {
    "collapsed": false
   },
   "outputs": [
    {
     "name": "stdout",
     "output_type": "stream",
     "text": [
      "4\n"
     ]
    }
   ],
   "source": [
    "lab22 = generateRandomlyAllLabs(2,2,1)"
   ]
  },
  {
   "cell_type": "code",
   "execution_count": 162,
   "metadata": {
    "collapsed": false,
    "scrolled": true
   },
   "outputs": [
    {
     "name": "stdout",
     "output_type": "stream",
     "text": [
      "15\n"
     ]
    }
   ],
   "source": [
    "lab23 = generateRandomlyAllLabs(2,3,400)"
   ]
  },
  {
   "cell_type": "code",
   "execution_count": 163,
   "metadata": {
    "collapsed": false,
    "scrolled": true
   },
   "outputs": [
    {
     "name": "stdout",
     "output_type": "stream",
     "text": [
      "56\n"
     ]
    }
   ],
   "source": [
    "lab24 = generateRandomlyAllLabs(2,4,1000)"
   ]
  },
  {
   "cell_type": "code",
   "execution_count": 164,
   "metadata": {
    "collapsed": false
   },
   "outputs": [
    {
     "name": "stdout",
     "output_type": "stream",
     "text": [
      "209\n"
     ]
    }
   ],
   "source": [
    "lab25 = generateRandomlyAllLabs(2,5,3000)"
   ]
  },
  {
   "cell_type": "code",
   "execution_count": 165,
   "metadata": {
    "collapsed": false
   },
   "outputs": [
    {
     "name": "stdout",
     "output_type": "stream",
     "text": [
      "780\n"
     ]
    }
   ],
   "source": [
    "lab26 = generateRandomlyAllLabs(2,6,6000)"
   ]
  },
  {
   "cell_type": "code",
   "execution_count": 166,
   "metadata": {
    "collapsed": false,
    "scrolled": true
   },
   "outputs": [
    {
     "name": "stdout",
     "output_type": "stream",
     "text": [
      "192\n"
     ]
    }
   ],
   "source": [
    "lab3 = generateRandomlyAllLabs(3,3,800)"
   ]
  },
  {
   "cell_type": "code",
   "execution_count": 167,
   "metadata": {
    "collapsed": false
   },
   "outputs": [
    {
     "ename": "KeyboardInterrupt",
     "evalue": "",
     "output_type": "error",
     "traceback": [
      "\u001b[0;31m---------------------------------------------------------------------------\u001b[0m",
      "\u001b[0;31mKeyboardInterrupt\u001b[0m                         Traceback (most recent call last)",
      "\u001b[0;32m<ipython-input-167-1af00fa20fa2>\u001b[0m in \u001b[0;36m<module>\u001b[0;34m()\u001b[0m\n\u001b[0;32m----> 1\u001b[0;31m \u001b[0mlab34\u001b[0m \u001b[0;34m=\u001b[0m \u001b[0mgenerateRandomlyAllLabs\u001b[0m\u001b[0;34m(\u001b[0m\u001b[0mInteger\u001b[0m\u001b[0;34m(\u001b[0m\u001b[0;36m3\u001b[0m\u001b[0;34m)\u001b[0m\u001b[0;34m,\u001b[0m\u001b[0mInteger\u001b[0m\u001b[0;34m(\u001b[0m\u001b[0;36m4\u001b[0m\u001b[0;34m)\u001b[0m\u001b[0;34m,\u001b[0m\u001b[0mInteger\u001b[0m\u001b[0;34m(\u001b[0m\u001b[0;36m50000\u001b[0m\u001b[0;34m)\u001b[0m\u001b[0;34m)\u001b[0m\u001b[0;34m\u001b[0m\u001b[0m\n\u001b[0m",
      "\u001b[0;32m<ipython-input-158-39566d656c2c>\u001b[0m in \u001b[0;36mgenerateRandomlyAllLabs\u001b[0;34m(m, n, maxRepetition)\u001b[0m\n\u001b[1;32m      5\u001b[0m     \u001b[0;32mwhile\u001b[0m\u001b[0;34m(\u001b[0m\u001b[0mlabDiff\u001b[0m \u001b[0;34m<\u001b[0m \u001b[0mmaxRepetition\u001b[0m\u001b[0;34m)\u001b[0m\u001b[0;34m:\u001b[0m\u001b[0;34m\u001b[0m\u001b[0m\n\u001b[1;32m      6\u001b[0m         \u001b[0mlab\u001b[0m \u001b[0;34m=\u001b[0m \u001b[0mgenerateRandomLabCell_g\u001b[0m\u001b[0;34m(\u001b[0m\u001b[0mm\u001b[0m\u001b[0;34m,\u001b[0m\u001b[0mn\u001b[0m\u001b[0;34m)\u001b[0m\u001b[0;34m\u001b[0m\u001b[0m\n\u001b[0;32m----> 7\u001b[0;31m         \u001b[0;32mif\u001b[0m \u001b[0mtryToAddLabs\u001b[0m\u001b[0;34m(\u001b[0m\u001b[0mlabs\u001b[0m\u001b[0;34m,\u001b[0m\u001b[0mlab\u001b[0m\u001b[0;34m)\u001b[0m\u001b[0;34m:\u001b[0m\u001b[0;34m\u001b[0m\u001b[0m\n\u001b[0m\u001b[1;32m      8\u001b[0m             \u001b[0mlabDiff\u001b[0m \u001b[0;34m=\u001b[0m \u001b[0mInteger\u001b[0m\u001b[0;34m(\u001b[0m\u001b[0;36m0\u001b[0m\u001b[0;34m)\u001b[0m\u001b[0;34m\u001b[0m\u001b[0m\n\u001b[1;32m      9\u001b[0m             \u001b[0mtryToAddLabs\u001b[0m\u001b[0;34m(\u001b[0m\u001b[0mlabs\u001b[0m\u001b[0;34m,\u001b[0m\u001b[0msymHLab\u001b[0m\u001b[0;34m(\u001b[0m\u001b[0mlab\u001b[0m\u001b[0;34m)\u001b[0m\u001b[0;34m)\u001b[0m\u001b[0;34m\u001b[0m\u001b[0m\n",
      "\u001b[0;32m<ipython-input-157-66901c9d0928>\u001b[0m in \u001b[0;36mtryToAddLabs\u001b[0;34m(labs, lab)\u001b[0m\n\u001b[1;32m      1\u001b[0m \u001b[0;32mdef\u001b[0m \u001b[0mtryToAddLabs\u001b[0m\u001b[0;34m(\u001b[0m\u001b[0mlabs\u001b[0m\u001b[0;34m,\u001b[0m\u001b[0mlab\u001b[0m\u001b[0;34m)\u001b[0m\u001b[0;34m:\u001b[0m\u001b[0;34m\u001b[0m\u001b[0m\n\u001b[0;32m----> 2\u001b[0;31m     \u001b[0;32mif\u001b[0m \u001b[0;32mnot\u001b[0m \u001b[0mlabInLabs\u001b[0m\u001b[0;34m(\u001b[0m\u001b[0mlab\u001b[0m\u001b[0;34m,\u001b[0m\u001b[0mlabs\u001b[0m\u001b[0;34m)\u001b[0m\u001b[0;34m:\u001b[0m\u001b[0;34m\u001b[0m\u001b[0m\n\u001b[0m\u001b[1;32m      3\u001b[0m             \u001b[0mlabs\u001b[0m\u001b[0;34m.\u001b[0m\u001b[0mappend\u001b[0m\u001b[0;34m(\u001b[0m\u001b[0mlab\u001b[0m\u001b[0;34m)\u001b[0m\u001b[0;34m\u001b[0m\u001b[0m\n\u001b[1;32m      4\u001b[0m             \u001b[0;32mreturn\u001b[0m \u001b[0mTrue\u001b[0m\u001b[0;34m\u001b[0m\u001b[0m\n\u001b[1;32m      5\u001b[0m     \u001b[0;32melse\u001b[0m\u001b[0;34m:\u001b[0m\u001b[0;34m\u001b[0m\u001b[0m\n",
      "\u001b[0;32m<ipython-input-139-d436e17457cf>\u001b[0m in \u001b[0;36mlabInLabs\u001b[0;34m(lab, labs)\u001b[0m\n\u001b[1;32m      1\u001b[0m \u001b[0;32mdef\u001b[0m \u001b[0mlabInLabs\u001b[0m\u001b[0;34m(\u001b[0m\u001b[0mlab\u001b[0m\u001b[0;34m,\u001b[0m\u001b[0mlabs\u001b[0m\u001b[0;34m)\u001b[0m\u001b[0;34m:\u001b[0m\u001b[0;34m\u001b[0m\u001b[0m\n\u001b[1;32m      2\u001b[0m     \u001b[0;32mfor\u001b[0m \u001b[0mi\u001b[0m \u001b[0;32min\u001b[0m \u001b[0mlabs\u001b[0m\u001b[0;34m:\u001b[0m\u001b[0;34m\u001b[0m\u001b[0m\n\u001b[0;32m----> 3\u001b[0;31m         \u001b[0;32mif\u001b[0m \u001b[0megalLab\u001b[0m\u001b[0;34m(\u001b[0m\u001b[0mi\u001b[0m\u001b[0;34m,\u001b[0m\u001b[0mlab\u001b[0m\u001b[0;34m)\u001b[0m\u001b[0;34m:\u001b[0m\u001b[0;34m\u001b[0m\u001b[0m\n\u001b[0m\u001b[1;32m      4\u001b[0m             \u001b[0;32mreturn\u001b[0m \u001b[0mTrue\u001b[0m\u001b[0;34m\u001b[0m\u001b[0m\n\u001b[1;32m      5\u001b[0m     \u001b[0;32mreturn\u001b[0m \u001b[0mFalse\u001b[0m\u001b[0;34m\u001b[0m\u001b[0m\n",
      "\u001b[0;32m<ipython-input-138-31da6c6c3584>\u001b[0m in \u001b[0;36megalLab\u001b[0;34m(l1, l2)\u001b[0m\n\u001b[1;32m      1\u001b[0m \u001b[0;32mdef\u001b[0m \u001b[0megalLab\u001b[0m\u001b[0;34m(\u001b[0m\u001b[0ml1\u001b[0m\u001b[0;34m,\u001b[0m\u001b[0ml2\u001b[0m\u001b[0;34m)\u001b[0m\u001b[0;34m:\u001b[0m\u001b[0;34m\u001b[0m\u001b[0m\n\u001b[0;32m----> 2\u001b[0;31m     \u001b[0;32mif\u001b[0m\u001b[0;34m(\u001b[0m\u001b[0mlen\u001b[0m\u001b[0;34m(\u001b[0m\u001b[0ml1\u001b[0m\u001b[0;34m)\u001b[0m\u001b[0;34m==\u001b[0m\u001b[0mlen\u001b[0m\u001b[0;34m(\u001b[0m\u001b[0ml2\u001b[0m\u001b[0;34m)\u001b[0m \u001b[0;32mand\u001b[0m \u001b[0mlen\u001b[0m\u001b[0;34m(\u001b[0m\u001b[0ml1\u001b[0m\u001b[0;34m[\u001b[0m\u001b[0mInteger\u001b[0m\u001b[0;34m(\u001b[0m\u001b[0;36m0\u001b[0m\u001b[0;34m)\u001b[0m\u001b[0;34m]\u001b[0m\u001b[0;34m)\u001b[0m\u001b[0;34m==\u001b[0m\u001b[0mlen\u001b[0m\u001b[0;34m(\u001b[0m\u001b[0ml2\u001b[0m\u001b[0;34m[\u001b[0m\u001b[0mInteger\u001b[0m\u001b[0;34m(\u001b[0m\u001b[0;36m0\u001b[0m\u001b[0;34m)\u001b[0m\u001b[0;34m]\u001b[0m\u001b[0;34m)\u001b[0m\u001b[0;34m)\u001b[0m\u001b[0;34m:\u001b[0m\u001b[0;34m\u001b[0m\u001b[0m\n\u001b[0m\u001b[1;32m      3\u001b[0m         \u001b[0;32mfor\u001b[0m \u001b[0mcl\u001b[0m\u001b[0;34m,\u001b[0m\u001b[0mline\u001b[0m \u001b[0;32min\u001b[0m \u001b[0menumerate\u001b[0m\u001b[0;34m(\u001b[0m\u001b[0ml1\u001b[0m\u001b[0;34m)\u001b[0m\u001b[0;34m:\u001b[0m\u001b[0;34m\u001b[0m\u001b[0m\n\u001b[1;32m      4\u001b[0m             \u001b[0;32mfor\u001b[0m \u001b[0mcc\u001b[0m\u001b[0;34m,\u001b[0m\u001b[0mcell\u001b[0m \u001b[0;32min\u001b[0m \u001b[0menumerate\u001b[0m\u001b[0;34m(\u001b[0m\u001b[0mline\u001b[0m\u001b[0;34m)\u001b[0m\u001b[0;34m:\u001b[0m\u001b[0;34m\u001b[0m\u001b[0m\n\u001b[1;32m      5\u001b[0m                 \u001b[0;32mif\u001b[0m \u001b[0;32mnot\u001b[0m \u001b[0mcell\u001b[0m \u001b[0;34m==\u001b[0m \u001b[0ml2\u001b[0m\u001b[0;34m[\u001b[0m\u001b[0mcl\u001b[0m\u001b[0;34m]\u001b[0m\u001b[0;34m[\u001b[0m\u001b[0mcc\u001b[0m\u001b[0;34m]\u001b[0m\u001b[0;34m:\u001b[0m\u001b[0;34m\u001b[0m\u001b[0m\n",
      "\u001b[0;32msrc/cysignals/signals.pyx\u001b[0m in \u001b[0;36mcysignals.signals.python_check_interrupt\u001b[0;34m()\u001b[0m\n",
      "\u001b[0;31mKeyboardInterrupt\u001b[0m: "
     ]
    }
   ],
   "source": [
    "lab34 = generateRandomlyAllLabs(3,4,50000)"
   ]
  },
  {
   "cell_type": "code",
   "execution_count": 0,
   "metadata": {
    "collapsed": false
   },
   "outputs": [
   ],
   "source": [
    "print(len(lab34))"
   ]
  },
  {
   "cell_type": "code",
   "execution_count": 0,
   "metadata": {
    "collapsed": false,
    "scrolled": true
   },
   "outputs": [
   ],
   "source": [
    "for i in lab3:\n",
    "    afficheLabCel(i,2,2).show()"
   ]
  },
  {
   "cell_type": "code",
   "execution_count": 178,
   "metadata": {
    "collapsed": false
   },
   "outputs": [
    {
     "name": "stdout",
     "output_type": "stream",
     "text": [
      "1\n"
     ]
    }
   ],
   "source": [
    "lab1 = generateRandomlyAllLabs(1,1,1)"
   ]
  },
  {
   "cell_type": "code",
   "execution_count": 134,
   "metadata": {
    "collapsed": false
   },
   "outputs": [
   ],
   "source": [
    "def generateRandomLabCell_g(m,n):\n",
    "    lab  = generateFullLabCell_g(m,n)\n",
    "    pos  = Position(m-1,n-1)\n",
    "    possibilities = []\n",
    "    while(not allLinked(lab)):\n",
    "        newChoices = getChoices(lab,pos)\n",
    "        choiceIndex = random.randint(0, len(possibilities)+len(newChoices)-1)\n",
    "        if choiceIndex < len(possibilities):\n",
    "            finalChoice = possibilities.pop(choiceIndex)\n",
    "        else:\n",
    "            finalChoice = newChoices.pop(choiceIndex - len(possibilities))\n",
    "        link(lab,finalChoice)\n",
    "        for i in newChoices:\n",
    "            possibilities.append(i)\n",
    "        pos = newPos(finalChoice)\n",
    "        removeNotValidChoices(lab,possibilities)\n",
    "    return lab"
   ]
  },
  {
   "cell_type": "code",
   "execution_count": 1,
   "metadata": {
    "collapsed": false
   },
   "outputs": [
    {
     "ename": "IndentationError",
     "evalue": "unindent does not match any outer indentation level (<ipython-input-1-00c39ed70a80>, line 10)",
     "output_type": "error",
     "traceback": [
      "\u001b[0;36m  File \u001b[0;32m\"<ipython-input-1-00c39ed70a80>\"\u001b[0;36m, line \u001b[0;32m10\u001b[0m\n\u001b[0;31m    for cell in line:\u001b[0m\n\u001b[0m                     ^\u001b[0m\n\u001b[0;31mIndentationError\u001b[0m\u001b[0;31m:\u001b[0m unindent does not match any outer indentation level\n"
     ]
    }
   ],
   "source": [
    "def generateLabProc(n):\n",
    "    labsList = [[],lab1,lab22]\n",
    "    for i in range(2,n):\n",
    "        base = generateFullLabCell_g(i+1,2)\n",
    "        for lab in labsList[i]:\n",
    "            toAdd = copy.deepcopy(base)\n",
    "            countI = 0\n",
    "            for line in lab:\n",
    "                    counJ = 0\n",
    "                for cell in line:\n",
    "                    toAdd[countI][countJ] = celldef generateLabProc(n):\n",
    "    labsList = [[],lab1,lab22]\n",
    "        countI +=1r i in range(2,n):\n",
    "        base = generateFullLabCell_g(i+1,2)\n",
    "        for lab in labsList[i]:\n",
    "            toAdd = copy.deepcopy(base)\n",
    "            countI = 0\n",
    "            for line in lab:\n",
    "                countJ = 0\n",
    "                for cell in line:\n",
    "                    baseForToAdd[countI][countJ] = cell\n",
    "                    countJ +=1\n",
    "                countI +=1\n",
    "            possiblePos =[Position(2,cellCount) for cellCount in 2]\n",
    "            labsPlus\n",
    "            for pos in possiblePos:\n",
    "                possibleChoices = []\n",
    "                toAdd = copy.deepcopy(baseForToAdd)\n",
    "                while not allLinked(lab):\n",
    "                    choices = getChoice(toAdd,pos)\n",
    "                    choice\n",
    "                    if choices:\n",
    "                        choice = choices.pop(0)\n",
    "                        if choices:\n",
    "                            for left in choices:\n",
    "                                possibleChoices.append(left)\n",
    "                    else if possibleChoices:\n",
    "                        choice = possibleChoices[0]\n",
    "                    link(choice,toAdd)\n",
    "                labsPlus.append(toAdd)\n",
    "            finalChoice = newChoices.pop(choiceIndex - len(possibilities))\n",
    "            afficheLabCel(toAdd,2,2).show()"
   ]
  },
  {
   "cell_type": "code",
   "execution_count": 0,
   "metadata": {
    "collapsed": false
   },
   "outputs": [
   ],
   "source": [
    "generateLabProc(3)"
   ]
  },
  {
   "cell_type": "code",
   "execution_count": 0,
   "metadata": {
    "collapsed": false
   },
   "outputs": [
   ],
   "source": [
   ]
  }
 ],
 "metadata": {
  "kernelspec": {
   "display_name": "SageMath 8.6",
   "language": "sagemath",
   "metadata": {
    "cocalc": {
     "description": "Open-source mathematical software system",
     "priority": 2,
     "url": "https://www.sagemath.org/"
    }
   },
   "name": "sage-8.6"
  },
  "language_info": {
   "codemirror_mode": {
    "name": "ipython",
    "version": 2
   },
   "file_extension": ".py",
   "mimetype": "text/x-python",
   "name": "python",
   "nbconvert_exporter": "python",
   "pygments_lexer": "ipython2",
   "version": "2.7.15"
  }
 },
 "nbformat": 4,
 "nbformat_minor": 0
}