{
 "cells": [
  {
   "cell_type": "markdown",
   "metadata": {
    "collapsed": false
   },
   "source": [
    "# Projet pluridisciplinaire TP1 : premiers pas avec Sage \n",
    "\n",
    "## Cellules interactives\n",
    "\n",
    "Ceci est un TP interactif utilisant le logiciel mathématique\n",
    "[SageMath](http://www.sagemath.org/). Vous êtes sur un document `Jupyter`,\n",
    "comme au premier semestre, contenant à la fois du texte et des cellules\n",
    "de code que vous pouvez modifier et exécuter. Le code est exécuté par\n",
    "le logiciel Sage, basé sur `Python` qui diffère du `C++` vu en Info111.\n",
    "\n",
    " * **Cliquez sur la cellule ci-dessous contenant une opération\n",
    "   puis tapez sur les touches <kbd>Maj</kbd> + <kbd>Entrée</kbd>.**\n",
    " * **Modifiez l'opération et exécutez de nouveau la cellule\n",
    "   en tapant sur <kbd>Maj</kbd> + <kbd>Entrée</kbd>.**\n",
    " * **Cliquez sur la ligne horizontale sous la cellule. Une nouvelle\n",
    "   cellule apparait, écrivez et exécutez une nouvelle opération.**"
   ]
  },
  {
   "cell_type": "code",
   "execution_count": 1,
   "metadata": {
    "collapsed": false
   },
   "outputs": [
    {
     "data": {
      "text/plain": [
       "42"
      ]
     },
     "execution_count": 1,
     "metadata": {
     },
     "output_type": "execute_result"
    }
   ],
   "source": [
    "28 + 2 * 7"
   ]
  },
  {
   "cell_type": "markdown",
   "metadata": {
    "collapsed": false
   },
   "source": [
    "Les cellules exécutent du code **Python**, langage que nous allons\n",
    "découvrir petit à petit lors des séances. La cellule suivante utilise\n",
    "la commande `print`.\n",
    "\n",
    " * **Exécutez la cellule.**\n",
    " * **Modifiez la chaine de caractères à afficher et exécutez à nouveau.**"
   ]
  },
  {
   "cell_type": "code",
   "execution_count": 2,
   "metadata": {
    "collapsed": false
   },
   "outputs": [
    {
     "name": "stdout",
     "output_type": "stream",
     "text": [
      "hop\n"
     ]
    }
   ],
   "source": [
    "print(\"hop\")"
   ]
  },
  {
   "cell_type": "markdown",
   "metadata": {
    "collapsed": false
   },
   "source": [
    "## Variables en python\n",
    "\n",
    "**Executez la cellule ci-dessous et observez le résultat.**"
   ]
  },
  {
   "cell_type": "code",
   "execution_count": 3,
   "metadata": {
    "collapsed": false
   },
   "outputs": [
    {
     "name": "stdout",
     "output_type": "stream",
     "text": [
      "Hop Hop \n"
     ]
    }
   ],
   "source": [
    "ma_chaine = \"Hop \"\n",
    "print(ma_chaine + ma_chaine)"
   ]
  },
  {
   "cell_type": "markdown",
   "metadata": {
    "collapsed": false
   },
   "source": [
    "**Exécutez les 3 cellules suivantes puis à nouveau la deuxième cellule. Que remarquez-vous ?**"
   ]
  },
  {
   "cell_type": "code",
   "execution_count": 4,
   "metadata": {
    "collapsed": false
   },
   "outputs": [
   ],
   "source": [
    "a = \"bla\""
   ]
  },
  {
   "cell_type": "code",
   "execution_count": 7,
   "metadata": {
    "collapsed": false
   },
   "outputs": [
    {
     "name": "stdout",
     "output_type": "stream",
     "text": [
      "blo\n"
     ]
    }
   ],
   "source": [
    "print(a)"
   ]
  },
  {
   "cell_type": "code",
   "execution_count": 6,
   "metadata": {
    "collapsed": false
   },
   "outputs": [
   ],
   "source": [
    "a = \"blo\""
   ]
  },
  {
   "cell_type": "markdown",
   "metadata": {
    "collapsed": false
   },
   "source": [
    "**Remarque** : contrairement au `C++`, on ne déclare pas a priori\n",
    "le type des variables `Python`. Cependant, les variables sont bien\n",
    "typées : le typage se fait de façon dynamique à l'exécution du\n",
    "programme. **Exécutez les cellules suivantes pour mettre\n",
    "en évidence ce phénomène.**"
   ]
  },
  {
   "cell_type": "code",
   "execution_count": 35,
   "metadata": {
    "collapsed": false
   },
   "outputs": [
    {
     "data": {
      "text/plain": [
       "'bla'"
      ]
     },
     "execution_count": 35,
     "metadata": {
     },
     "output_type": "execute_result"
    }
   ],
   "source": [
    "a = \"bla\"\n",
    "str(a)"
   ]
  },
  {
   "cell_type": "code",
   "execution_count": 13,
   "metadata": {
    "collapsed": false
   },
   "outputs": [
    {
     "data": {
      "text/plain": [
       "5"
      ]
     },
     "execution_count": 13,
     "metadata": {
     },
     "output_type": "execute_result"
    }
   ],
   "source": [
    "a = 5\n",
    "int(a)"
   ]
  },
  {
   "cell_type": "code",
   "execution_count": 14,
   "metadata": {
    "collapsed": false
   },
   "outputs": [
    {
     "data": {
      "text/plain": [
       "2.12"
      ]
     },
     "execution_count": 14,
     "metadata": {
     },
     "output_type": "execute_result"
    }
   ],
   "source": [
    "a = 2.12\n",
    "float(a)"
   ]
  },
  {
   "cell_type": "markdown",
   "metadata": {
    "collapsed": false
   },
   "source": [
    "## Commençons à faire des maths...\n",
    "\n",
    "`Sage` est un logiciel pour les mathématiques. Vous pouvez le voir comme une \"grosse\" calculatrice en plus avancé... On peut donc s'en servir pour faire du calcul formel, c'est-à-dire du calcul sur des objets mathématiques.\n",
    "\n",
    "**Exécutez les cellules suivantes.**"
   ]
  },
  {
   "cell_type": "code",
   "execution_count": 21,
   "metadata": {
    "collapsed": false,
    "scrolled": true
   },
   "outputs": [
    {
     "name": "stdout",
     "output_type": "stream",
     "text": [
      "x |--> x^2\n"
     ]
    }
   ],
   "source": [
    "f(x) = pow(x, 2)\n",
    "print(f)"
   ]
  },
  {
   "cell_type": "code",
   "execution_count": 25,
   "metadata": {
    "collapsed": false
   },
   "outputs": [
    {
     "data": {
      "text/plain": [
       "<type 'sage.symbolic.expression.Expression'>"
      ]
     },
     "execution_count": 25,
     "metadata": {
     },
     "output_type": "execute_result"
    }
   ],
   "source": [
    "type(f)"
   ]
  },
  {
   "cell_type": "markdown",
   "metadata": {
    "collapsed": false
   },
   "source": [
    "L'objet $f$ est une expression mathématique. Ce n'est pas une procédure de calcul mais bien un ensemble d'informations représentant un objet mathématique. En particulier, on peut effectuer diverses sortes d'opérations.\n",
    "\n",
    "**Exécutez les cellules suivantes.**\n"
   ]
  },
  {
   "cell_type": "code",
   "execution_count": 26,
   "metadata": {
    "collapsed": false
   },
   "outputs": [
    {
     "data": {
      "text/plain": [
       "x |--> 1/3*x^3"
      ]
     },
     "execution_count": 26,
     "metadata": {
     },
     "output_type": "execute_result"
    }
   ],
   "source": [
    "f.integral(x)"
   ]
  },
  {
   "cell_type": "code",
   "execution_count": 27,
   "metadata": {
    "collapsed": false
   },
   "outputs": [
    {
     "data": {
      "text/plain": [
       "4"
      ]
     },
     "execution_count": 27,
     "metadata": {
     },
     "output_type": "execute_result"
    }
   ],
   "source": [
    "f(2)"
   ]
  },
  {
   "cell_type": "code",
   "execution_count": 28,
   "metadata": {
    "collapsed": false
   },
   "outputs": [
    {
     "data": {
      "text/plain": [
       "4*x^2"
      ]
     },
     "execution_count": 28,
     "metadata": {
     },
     "output_type": "execute_result"
    }
   ],
   "source": [
    "f(2*x)"
   ]
  },
  {
   "cell_type": "code",
   "execution_count": 29,
   "metadata": {
    "collapsed": false
   },
   "outputs": [
    {
     "data": {
      "text/plain": [
       "x |--> 2*x^2"
      ]
     },
     "execution_count": 29,
     "metadata": {
     },
     "output_type": "execute_result"
    }
   ],
   "source": [
    "2*f"
   ]
  },
  {
   "cell_type": "code",
   "execution_count": 30,
   "metadata": {
    "collapsed": false
   },
   "outputs": [
    {
     "data": {
      "image/png": "[encoded data removed]"
     }
    }
   ],
   "source": [
    "plot(f)"
   ]
  },
  {
   "cell_type": "code",
   "execution_count": 31,
   "metadata": {
    "collapsed": false
   },
   "outputs": [
    {
     "data": {
      "image/png": "[encoded data removed]"
     }
    }
   ],
   "source": [
    "plot(f, (x, -4, 4))"
   ]
  },
  {
   "cell_type": "markdown",
   "metadata": {
    "collapsed": false
   },
   "source": [
    "**Remarque** : dans ce programme, `f` est un objet ; dans Sage la plupart\n",
    "des données sont représentées sous forme d'objets. Les fonctions\n",
    "`derivative` et `integral` sont appelées des **méthodes** de l'objet `f`.\n",
    "Pour connaître toutes les méthodes de l'objet `f`, tapez dans une cellule\n",
    "`f.` puis la touche de tabulation <kbd>TAB</kbd> qui ressemble souvent à\n",
    "<kbd>->|</kbd> et est généralement située sur le clavier sous la rangée\n",
    "de chiffres, tout à gauche de la première rangée de lettres."
   ]
  },
  {
   "cell_type": "code",
   "execution_count": 0,
   "metadata": {
    "collapsed": false
   },
   "outputs": [
   ],
   "source": [
   ]
  },
  {
   "cell_type": "code",
   "execution_count": 0,
   "metadata": {
    "collapsed": false
   },
   "outputs": [
   ],
   "source": [
   ]
  },
  {
   "cell_type": "code",
   "execution_count": 36,
   "metadata": {
    "collapsed": false
   },
   "outputs": [
    {
     "ename": "SyntaxError",
     "evalue": "invalid syntax (<ipython-input-36-ecbd3b12d2e2>, line 1)",
     "output_type": "error",
     "traceback": [
      "\u001b[0;36m  File \u001b[0;32m\"<ipython-input-36-ecbd3b12d2e2>\"\u001b[0;36m, line \u001b[0;32m1\u001b[0m\n\u001b[0;31m    f.\u001b[0m\n\u001b[0m      ^\u001b[0m\n\u001b[0;31mSyntaxError\u001b[0m\u001b[0;31m:\u001b[0m invalid syntax\n"
     ]
    }
   ],
   "source": [
    "f.tan?"
   ]
  },
  {
   "cell_type": "markdown",
   "metadata": {
    "collapsed": false
   },
   "source": [
    "Pour obtenir de l'aide et des exemple sur l'utilisation d'une méthode tapez : `f.methode?` (en remplaçant `methode` par le nom de votre fonction) ou bien `help(f.methode)`. **Affichez et lisez la documentation de la méthode `limit` et calculez la limite de la fonction $\\frac{1}{x}$ en 0.**"
   ]
  },
  {
   "cell_type": "code",
   "execution_count": 0,
   "metadata": {
    "collapsed": false
   },
   "outputs": [
   ],
   "source": [
    "f.limit?"
   ]
  },
  {
   "cell_type": "code",
   "execution_count": 37,
   "metadata": {
    "collapsed": false
   },
   "outputs": [
    {
     "name": "stdout",
     "output_type": "stream",
     "text": [
      "Help on built-in function limit:\n",
      "\n",
      "limit(...)\n",
      "    Expression.limit(self, *args, **kwds)\n",
      "    File: sage/symbolic/expression.pyx (starting at line 12439)\n",
      "    \n",
      "            Return a symbolic limit.  See\n",
      "            :obj:`sage.calculus.calculus.limit`\n",
      "    \n",
      "            EXAMPLES::\n",
      "    \n",
      "                sage: (sin(x)/x).limit(x=0)\n",
      "                1\n",
      "\n"
     ]
    }
   ],
   "source": [
    "help(f.limit)"
   ]
  },
  {
   "cell_type": "code",
   "execution_count": 65,
   "metadata": {
    "collapsed": false
   },
   "outputs": [
   ],
   "source": [
    "h(x) = 1/x"
   ]
  },
  {
   "cell_type": "code",
   "execution_count": 66,
   "metadata": {
    "collapsed": false
   },
   "outputs": [
    {
     "data": {
      "text/plain": [
       "x |--> Infinity"
      ]
     },
     "execution_count": 66,
     "metadata": {
     },
     "output_type": "execute_result"
    }
   ],
   "source": [
    "h.limit(x=0)"
   ]
  },
  {
   "cell_type": "markdown",
   "metadata": {
    "collapsed": false
   },
   "source": [
    "**Remarque** : dans l'exemple précédent, $x$ est aussi un objet Sage,\n",
    "c'est une variable symbolique au sens mathématique du terme. Ce n'est\n",
    "PAS la même chose qu'une variable Python comme tout à l'heure pour `a` !\n",
    "\n",
    "Sage est utilisé à la fois dans le monde de l'enseignement et de la\n",
    "recherche pour effectuer des calculs mathématiques avancés. Vous\n",
    "trouverez dans le livre en ligne\n",
    "[Calcul mathématiques avec Sage](http://sagebook.gforge.inria.fr/)\n",
    "de nombreux exemples qui pourront vous aider ce semestre. \n",
    "\n",
    "**Définissez une fonction $g(x)$ et calculez sa dérivée et son intégrale.\n",
    "Affichez la fonction à l'aide de `plot` puis affichez aussi sa dérivée\n",
    "et son intégrale.**"
   ]
  },
  {
   "cell_type": "code",
   "execution_count": 68,
   "metadata": {
    "collapsed": false
   },
   "outputs": [
   ],
   "source": [
    "g(x) = 4*x+5"
   ]
  },
  {
   "cell_type": "code",
   "execution_count": 69,
   "metadata": {
    "collapsed": false
   },
   "outputs": [
    {
     "data": {
      "text/plain": [
       "x |--> 2*x^2 + 5*x"
      ]
     },
     "execution_count": 69,
     "metadata": {
     },
     "output_type": "execute_result"
    }
   ],
   "source": [
    "g.integral(x)"
   ]
  },
  {
   "cell_type": "code",
   "execution_count": 71,
   "metadata": {
    "collapsed": false
   },
   "outputs": [
    {
     "data": {
      "text/plain": [
       "x |--> 4"
      ]
     },
     "execution_count": 71,
     "metadata": {
     },
     "output_type": "execute_result"
    }
   ],
   "source": [
    "g.derivative(x)"
   ]
  },
  {
   "cell_type": "code",
   "execution_count": 79,
   "metadata": {
    "collapsed": false
   },
   "outputs": [
    {
     "data": {
      "image/png": "[encoded data removed]"
     }
    }
   ],
   "source": [
    "plot(g, color = \"black\") + plot(g.derivative(), color = \"red\") + plot(g.integral(x), color = \"blue\")"
   ]
  },
  {
   "cell_type": "code",
   "execution_count": 0,
   "metadata": {
    "collapsed": false
   },
   "outputs": [
   ],
   "source": [
   ]
  },
  {
   "cell_type": "code",
   "execution_count": 0,
   "metadata": {
    "collapsed": false
   },
   "outputs": [
   ],
   "source": [
   ]
  },
  {
   "cell_type": "markdown",
   "metadata": {
    "collapsed": false
   },
   "source": [
    "Il est possible d'obtenir le tracé de plusieurs fonctions\n",
    "en même temps. **Regardez l'exemple suivant.**"
   ]
  },
  {
   "cell_type": "code",
   "execution_count": 38,
   "metadata": {
    "collapsed": false
   },
   "outputs": [
    {
     "data": {
      "image/png": "[encoded data removed]"
     }
    }
   ],
   "source": [
    "plot(f) + plot(f.derivative(), color =\"red\")"
   ]
  },
  {
   "cell_type": "markdown",
   "metadata": {
    "collapsed": false
   },
   "source": [
    "**Tracez ensemble votre fonction $g$, son intégrale et sa dérivée\n",
    "en utilisant des couleurs différentes.**"
   ]
  },
  {
   "cell_type": "code",
   "execution_count": 0,
   "metadata": {
    "collapsed": false
   },
   "outputs": [
   ],
   "source": [
   ]
  },
  {
   "cell_type": "markdown",
   "metadata": {
    "collapsed": false
   },
   "source": [
    "La cellule suivante définit une fonction $h$. **Calculez la tangente\n",
    "à la fonction $h$ en $0$ et tracez ensemble la fonction et sa tangente.**"
   ]
  },
  {
   "cell_type": "code",
   "execution_count": 103,
   "metadata": {
    "collapsed": false
   },
   "outputs": [
    {
     "data": {
      "image/png": "[encoded data removed]"
     }
    }
   ],
   "source": [
    "h(x) = sin(x) * (x + 1) + 2\n",
    "tan(x) = h.derivative()(0)*(x) + h(0)\n",
    "plot(h, (x, -7, 7)) + plot(tan, (x, -7, 7))"
   ]
  },
  {
   "cell_type": "code",
   "execution_count": 0,
   "metadata": {
    "collapsed": false
   },
   "outputs": [
   ],
   "source": [
   ]
  },
  {
   "cell_type": "markdown",
   "metadata": {
    "collapsed": false
   },
   "source": [
    "## Encore plus de tracés !\n",
    "\n",
    "En plus des fonctions, il est possible de tracer de nombreuses formes géométriques.\n",
    "\n",
    "**Exécutez les cellules suivantes en observant attentivement la syntaxe des fonctions.**\n"
   ]
  },
  {
   "cell_type": "code",
   "execution_count": 40,
   "metadata": {
    "collapsed": false
   },
   "outputs": [
    {
     "data": {
      "image/png": "[encoded data removed]"
     }
    }
   ],
   "source": [
    "point2d((3,4))"
   ]
  },
  {
   "cell_type": "code",
   "execution_count": 41,
   "metadata": {
    "collapsed": false
   },
   "outputs": [
    {
     "data": {
      "image/png": "[encoded data removed]"
     }
    }
   ],
   "source": [
    "circle((0, 0), 1)"
   ]
  },
  {
   "cell_type": "code",
   "execution_count": 42,
   "metadata": {
    "collapsed": false
   },
   "outputs": [
    {
     "data": {
      "image/png": "[encoded data removed]"
     }
    }
   ],
   "source": [
    "line2d([(0, 0), (1, 1), (2, 0)])"
   ]
  },
  {
   "cell_type": "code",
   "execution_count": 43,
   "metadata": {
    "collapsed": false
   },
   "outputs": [
    {
     "data": {
      "image/png": "[encoded data removed]"
     }
    }
   ],
   "source": [
    "polygon2d([(0, 0), (1, 0), (1, 1), (0, 1)])"
   ]
  },
  {
   "cell_type": "markdown",
   "metadata": {
    "collapsed": false
   },
   "source": [
    "Dans le premier exemple, les coordonnées du point sont données par\n",
    "l'objet `(3, 4)`, c'est ce qu'on appelle un tuple. Pour dessiner\n",
    "une ligne ou un polygone, on utilise une **liste** de points avec\n",
    "la syntaxe `[p1, p2, ...]`. Nous verrons plus en détail ces structures\n",
    "dans la suite du cours.\n",
    "\n",
    "**Tracez un carré dont les coordonnées sont `(-1, -1), (1, -1), (1, 1), (-1, 1)`.**"
   ]
  },
  {
   "cell_type": "code",
   "execution_count": 108,
   "metadata": {
    "collapsed": false
   },
   "outputs": [
    {
     "data": {
      "image/png": "[encoded data removed]"
     }
    }
   ],
   "source": [
    "polygon2d([(-1, -1), (1, -1), (1, 1), (-1, 1)])"
   ]
  },
  {
   "cell_type": "markdown",
   "metadata": {
    "collapsed": false
   },
   "source": [
    "Dans la cellule suivante, on définit 3 points.\n",
    " \n",
    " * **Dessinez le triangle formé de ces trois points**\n",
    " * **Changez la valeur des points et dessinez à nouveau le triangle**\n",
    "\n"
   ]
  },
  {
   "cell_type": "code",
   "execution_count": 55,
   "metadata": {
    "collapsed": false
   },
   "outputs": [
   ],
   "source": [
    "p1 = (-1, 1)\n",
    "p2 = (0, 0)\n",
    "p3 = (1, 1)"
   ]
  },
  {
   "cell_type": "code",
   "execution_count": 56,
   "metadata": {
    "collapsed": false
   },
   "outputs": [
    {
     "data": {
      "image/png": "[encoded data removed]"
     }
    }
   ],
   "source": [
    "polygon2d([(p1), (p2), (p3)])"
   ]
  },
  {
   "cell_type": "markdown",
   "metadata": {
    "collapsed": false
   },
   "source": [
    "**Calculez les coordonées d'un hexagone régulier et tracez-le. Vous pouvez utiliser les fonctions `cos` et `sin` ainsi que la constante `pi`.**"
   ]
  },
  {
   "cell_type": "code",
   "execution_count": 1,
   "metadata": {
    "collapsed": false
   },
   "outputs": [
   ],
   "source": [
    "x1 = (cos(pi/3))\n",
    "y1 = (sin(pi/3))\n",
    "\n",
    "x2 = (cos(2*pi/3))\n",
    "y2 = (sin(2*pi/3))\n",
    "\n",
    "x3 = (cos(3*pi/3))\n",
    "y3 = (sin(3*pi/3))\n",
    "\n",
    "x4 = (cos(4*pi/3))\n",
    "y4 = (sin(4*pi/3))\n",
    "\n",
    "x5 = (cos(5*pi/3))\n",
    "y5 = (sin(5*pi/3))\n",
    "\n",
    "x6 = (cos(6*pi/3))\n",
    "y6 = (sin(6*pi/3))\n",
    "\n",
    "p1 = (x1, y1)\n",
    "p2 = (x2, y2)\n",
    "p3 = (x3, y3)\n",
    "p4 = (x4, y4)\n",
    "p5 = (x5, y5)\n",
    "p6 = (x6, y6)"
   ]
  },
  {
   "cell_type": "code",
   "execution_count": 2,
   "metadata": {
    "collapsed": false
   },
   "outputs": [
    {
     "data": {
      "image/png": "[encoded data removed]"
     },
     "execution_count": 2,
     "metadata": {
     },
     "output_type": "execute_result"
    }
   ],
   "source": [
    "polygon2d([p1, p2, p3, p4, p5, p6]) + circle((0, 0), 1, color = \"red\")"
   ]
  },
  {
   "cell_type": "code",
   "execution_count": 0,
   "metadata": {
    "collapsed": false
   },
   "outputs": [
   ],
   "source": [
   ]
  },
  {
   "cell_type": "markdown",
   "metadata": {
    "collapsed": false
   },
   "source": [
    "**Tracez sur la même image un cercle rouge entourant l'hexagone.**"
   ]
  },
  {
   "cell_type": "code",
   "execution_count": 0,
   "metadata": {
    "collapsed": false
   },
   "outputs": [
   ],
   "source": [
   ]
  },
  {
   "cell_type": "code",
   "execution_count": 0,
   "metadata": {
    "collapsed": false
   },
   "outputs": [
   ],
   "source": [
   ]
  }
 ],
 "metadata": {
  "kernelspec": {
   "display_name": "SageMath (stable)",
   "language": "sagemath",
   "name": "sagemath"
  },
  "language_info": {
   "codemirror_mode": {
    "name": "ipython",
    "version": 2
   },
   "file_extension": ".py",
   "mimetype": "text/x-python",
   "name": "python",
   "nbconvert_exporter": "python",
   "pygments_lexer": "ipython2",
   "version": "2.7.15"
  }
 },
 "nbformat": 4,
 "nbformat_minor": 0
}