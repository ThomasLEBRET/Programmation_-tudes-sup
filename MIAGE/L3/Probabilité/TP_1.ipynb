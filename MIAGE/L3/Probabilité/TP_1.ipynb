{
 "cells": [
  {
   "cell_type": "markdown",
   "source": [
    "# Introduction aux probabilités"
   ],
   "metadata": {}
  },
  {
   "cell_type": "markdown",
   "source": [
    "Le but de cette première séance est de découvrir Python et de l’utiliser pour simuler des variables aléatoires discrètes. "
   ],
   "metadata": {}
  },
  {
   "cell_type": "markdown",
   "source": [
    "## 1 Installation et premiers pas"
   ],
   "metadata": {}
  },
  {
   "cell_type": "markdown",
   "source": [
    "1. Anaconda (voir https://www.anaconda.com/distribution/) est pratiquement incontournable de nos jours. C’est une distribution gratuite, libre, et optimisée pour Python qui repose sur Conda. En particulier Anaconda permet de gérer les dépendances entre les librairies Python de manière automatique."
   ],
   "metadata": {}
  },
  {
   "cell_type": "markdown",
   "source": [
    "2. Jupyter notebook : c’est l’outil recommandé pour ce cours. Cela lance une interface dans votre navigateur (Firefox, Chrome, etc.). De plus ces fichiers peuvent être visualisés en ligne facilement (en les mettant sur un site comme github par exemple)."
   ],
   "metadata": {}
  },
  {
   "cell_type": "markdown",
   "source": [
    "3. On peux installer les packages utilisables par \n",
    "```\n",
    "pip install <package name>\n",
    "```"
   ],
   "metadata": {}
  },
  {
   "cell_type": "code",
   "execution_count": 8,
   "source": [
    "!pip install numpy"
   ],
   "outputs": [
    {
     "output_type": "stream",
     "name": "stdout",
     "text": [
      "Defaulting to user installation because normal site-packages is not writeable\n",
      "Collecting numpy\n",
      "  Downloading numpy-1.21.2-cp38-cp38-macosx_11_0_arm64.whl (12.3 MB)\n",
      "\u001b[K     |████████████████████████████████| 12.3 MB 5.1 MB/s \n",
      "\u001b[?25hInstalling collected packages: numpy\n",
      "\u001b[33m  WARNING: The scripts f2py, f2py3 and f2py3.8 are installed in '/Users/thomaslebret/Library/Python/3.8/bin' which is not on PATH.\n",
      "  Consider adding this directory to PATH or, if you prefer to suppress this warning, use --no-warn-script-location.\u001b[0m\n",
      "Successfully installed numpy-1.21.2\n"
     ]
    }
   ],
   "metadata": {}
  },
  {
   "cell_type": "markdown",
   "source": [
    "## 2 Les bases du Python"
   ],
   "metadata": {}
  },
  {
   "cell_type": "markdown",
   "source": [
    "Depuis Jupyter Notebook, vous pouvez exécuter toutes les commandes déjà disponibles et même déﬁnir vos propres fonctions, mais avant d’en arriver là nous allons d’abord nous familiariser avec les commandes de base de Python."
   ],
   "metadata": {}
  },
  {
   "cell_type": "code",
   "execution_count": null,
   "source": [
    "5"
   ],
   "outputs": [],
   "metadata": {}
  },
  {
   "cell_type": "code",
   "execution_count": null,
   "source": [
    "5 * 10"
   ],
   "outputs": [],
   "metadata": {}
  },
  {
   "cell_type": "code",
   "execution_count": null,
   "source": [
    "a = 5\n",
    "b = 10\n",
    "a / b"
   ],
   "outputs": [],
   "metadata": {}
  },
  {
   "cell_type": "code",
   "execution_count": null,
   "source": [
    "a = 10\n",
    "b = 3\n",
    "print(a+b, a-b)"
   ],
   "outputs": [],
   "metadata": {}
  },
  {
   "cell_type": "code",
   "execution_count": null,
   "source": [
    "# valeur alphanumérique\n",
    "a = 'TP'\n",
    "b = 'proba'\n",
    "print(a + b)"
   ],
   "outputs": [],
   "metadata": {}
  },
  {
   "cell_type": "code",
   "execution_count": null,
   "source": [
    "# valeurs booléennes\n",
    "0 < 1"
   ],
   "outputs": [],
   "metadata": {}
  },
  {
   "cell_type": "code",
   "execution_count": null,
   "source": [
    "5 * 10 >= 6 * 10"
   ],
   "outputs": [],
   "metadata": {}
  },
  {
   "cell_type": "code",
   "execution_count": null,
   "source": [
    "# list\n",
    "a = [1, 2, 3 , 4]\n",
    "a"
   ],
   "outputs": [],
   "metadata": {}
  },
  {
   "cell_type": "markdown",
   "source": [
    "On peut aussi définir les vecteurs en utilisant numpy.\n",
    "\n",
    "Le module numpy est utilisé dans presque tous les projets de calcul numérique sous\n",
    "Python. Il fournit des structures de données performantes pour la manipulation de vecteurs,\n",
    "matrices et tenseurs."
   ],
   "metadata": {}
  },
  {
   "cell_type": "code",
   "execution_count": 9,
   "source": [
    "import numpy as np"
   ],
   "outputs": [],
   "metadata": {}
  },
  {
   "cell_type": "code",
   "execution_count": null,
   "source": [
    "np.pi"
   ],
   "outputs": [],
   "metadata": {}
  },
  {
   "cell_type": "code",
   "execution_count": null,
   "source": [
    "np.e"
   ],
   "outputs": [],
   "metadata": {}
  },
  {
   "cell_type": "code",
   "execution_count": null,
   "source": [
    "# Vecteur: l'argument est une liste Python\n",
    "liste = [1, 3, 2, 4]\n",
    "vecteur = np.array(liste)\n",
    "print(vecteur)\n",
    "print(vecteur[0])"
   ],
   "outputs": [],
   "metadata": {}
  },
  {
   "cell_type": "code",
   "execution_count": null,
   "source": [
    "print(type(vecteur))"
   ],
   "outputs": [],
   "metadata": {}
  },
  {
   "cell_type": "code",
   "execution_count": null,
   "source": [
    "print(np.shape(vecteur))"
   ],
   "outputs": [],
   "metadata": {}
  },
  {
   "cell_type": "code",
   "execution_count": null,
   "source": [
    "a = np.arange(10)\n",
    "a"
   ],
   "outputs": [],
   "metadata": {}
  },
  {
   "cell_type": "code",
   "execution_count": null,
   "source": [
    "# le slicing d'un vecteur \n",
    "a[2:9:3] # [début:fin:pas]"
   ],
   "outputs": [],
   "metadata": {}
  },
  {
   "cell_type": "code",
   "execution_count": null,
   "source": [
    "a[2:8:3] # le dernier élément n'est pas inclus"
   ],
   "outputs": [],
   "metadata": {}
  },
  {
   "cell_type": "code",
   "execution_count": null,
   "source": [
    "a = np.array([1,2,3])\n",
    "b = np.array([4,5,6])\n",
    "print(a*b)\n",
    "print(np.dot(a,b))"
   ],
   "outputs": [],
   "metadata": {}
  },
  {
   "cell_type": "markdown",
   "source": [
    "Voir ce lien pour l'information plus détaillée : http://math.mad.free.fr/depot/numpy/base.html"
   ],
   "metadata": {}
  },
  {
   "cell_type": "markdown",
   "source": [
    "## 3. Function"
   ],
   "metadata": {}
  },
  {
   "cell_type": "markdown",
   "source": [
    "Un grand nombre de fonctions sont disponibles, présentes dans le module de base ou dans des bibliothèques séparées. Elles peuvent avoir zéro, un ou plusieurs arguments, et renvoient un vecteur ou un objet de structure plus élaborée."
   ],
   "metadata": {}
  },
  {
   "cell_type": "code",
   "execution_count": null,
   "source": [
    "np.arange(2, 20, 3)  #  cette fonction permet de construire des suites de nombres équidistants"
   ],
   "outputs": [],
   "metadata": {}
  },
  {
   "cell_type": "code",
   "execution_count": null,
   "source": [
    "a = np.array([1, 4, 2, 3])\n",
    "np.sort(a) # cette fonction renvoie un vecteur dont les coordonnées sont celles de v après un tri croissant ou décroissant"
   ],
   "outputs": [],
   "metadata": {}
  },
  {
   "cell_type": "code",
   "execution_count": null,
   "source": [
    "np.sum(a) # cette fonction eﬀectue la somme des coordonnées du vecteur"
   ],
   "outputs": [],
   "metadata": {}
  },
  {
   "cell_type": "code",
   "execution_count": null,
   "source": [
    "print(a) # cette fonction permet d’aﬃcher le vecteur v"
   ],
   "outputs": [],
   "metadata": {}
  },
  {
   "cell_type": "code",
   "execution_count": 189,
   "source": [
    "from numpy import random\n",
    "random.randint(5, size = 10) # cette fonction permet de générer un nombre aléatoire entier"
   ],
   "outputs": [
    {
     "output_type": "execute_result",
     "data": {
      "text/plain": [
       "array([4, 1, 2, 4, 0, 1, 1, 4, 1, 4])"
      ]
     },
     "metadata": {},
     "execution_count": 189
    }
   ],
   "metadata": {}
  },
  {
   "cell_type": "code",
   "execution_count": 190,
   "source": [
    "random.choice([1,3,5,7,9],size=3,replace=False) # cette fonction nous permet de faire un tirage"
   ],
   "outputs": [
    {
     "output_type": "execute_result",
     "data": {
      "text/plain": [
       "array([3, 9, 7])"
      ]
     },
     "metadata": {},
     "execution_count": 190
    }
   ],
   "metadata": {}
  },
  {
   "cell_type": "code",
   "execution_count": null,
   "source": [
    "# Il est possible aussi de créer ses propres fonctions\n",
    "\n",
    "def my_function(a,b):\n",
    "    c = 1/a + 1/b\n",
    "    d = a + b\n",
    "    return c*d"
   ],
   "outputs": [],
   "metadata": {}
  },
  {
   "cell_type": "code",
   "execution_count": null,
   "source": [
    "my_function(1,2)"
   ],
   "outputs": [],
   "metadata": {}
  },
  {
   "cell_type": "markdown",
   "source": [
    "## Exercice"
   ],
   "metadata": {}
  },
  {
   "cell_type": "markdown",
   "source": [
    "Ex1:\n",
    "\n",
    "Écrire une commande qui renvoie le résultat\n",
    "    - du lancer d’un dé\n",
    "    - du lancer de 2 dés\n",
    "    - de la somme des résultats du lancer de 2 dés\n",
    "    - du tirage du loto (5 numéros parmi 49)"
   ],
   "metadata": {}
  },
  {
   "cell_type": "code",
   "execution_count": 208,
   "source": [
    "from numpy import random\n",
    "des = random.randint(1, 7)\n",
    "print(\"Résulat un dès : \", des)\n",
    "\n",
    "doubleDes = random.randint(1,7, size = 2)\n",
    "print(\"Résultat deux dès : \",doubleDes)\n",
    "\n",
    "resDeuxDes = doubleDes[0] + doubleDes[1]\n",
    "print(\"La somme des deux dès vaut : \", resDeuxDes)\n",
    "\n",
    "loto = [i for i in range (1, 50)]\n",
    "resLoto = random.choice(loto, size=5, replace = False)\n",
    "print(resLoto)"
   ],
   "outputs": [
    {
     "output_type": "stream",
     "name": "stdout",
     "text": [
      "Résulat un dès :  1\n",
      "Résultat deux dès :  [3 4]\n",
      "La somme des deux dès vaut :  7\n",
      "[48 25  5 30  4]\n"
     ]
    }
   ],
   "metadata": {}
  },
  {
   "cell_type": "markdown",
   "source": [
    "Ex2: \n",
    "\n",
    "Créer une fonction **Urne** à trois arguments $k,p,q$ qui modélise le tirage sans remise de $k$ boules dans un sac contenant $p$ boules rouges et $q$ boules noires. \\\n",
    "Indication : voici un exemple de sortie :\n",
    "\n",
    "```\n",
    "Urne(6,8,5)\n",
    "\n",
    "Output:\n",
    "\"Rouge\" \"Noire\" \"Noire\" \"Rouge\" \"Rouge\" \"Rouge\"\n",
    "```"
   ],
   "metadata": {}
  },
  {
   "cell_type": "code",
   "execution_count": 211,
   "source": [
    "from numpy import random\n",
    "\n",
    "def urne(k,p,q):\n",
    "    liste = p*[\"Rouge\"] + q*[\"Noire\"]\n",
    "    print(random.choice(liste, size = k, replace=False))\n",
    "\n",
    "\n",
    "urne(8,4,4)"
   ],
   "outputs": [
    {
     "output_type": "stream",
     "name": "stdout",
     "text": [
      "['Rouge' 'Rouge' 'Rouge' 'Noire' 'Noire' 'Noire' 'Noire' 'Rouge']\n"
     ]
    }
   ],
   "metadata": {}
  },
  {
   "cell_type": "markdown",
   "source": [
    "Ex3:\n",
    "    \n",
    "Lorsqu’on effectue $n$ tirages indépendants d’une même expérience aléatoire, on appelle fréquence empirique du résultat $k$ le rapport entre le nombre de fois où $k$ est tiré, et $n$. Exemple : on jette à $7$ reprises un dé, avec pour résultats $1, 1, 5, 2, 6, 5, 3$ ; la fréquence empirique de $5$ est $2/7$, celle de $4$ est $0$.\n",
    "\n",
    "Écrire une fonction **FreqEmp** à un paramètre $n$ qui renvoie la fréquence empirique de $5$ lors de n tirages indépendants d’un dé à six faces. Comparer les fréquences empiriques pour $n = 10$, $n = 100$ puis $n = 1000$, avec la probabilité (théorique) de tirer un $5$ lorsqu’on lance un dé."
   ],
   "metadata": {}
  },
  {
   "cell_type": "code",
   "execution_count": 212,
   "source": [
    "from numpy import random\n",
    "\n",
    "# Pour la valeur 5\n",
    "def freqEmp(n):\n",
    "    val = 0\n",
    "    L = random.randint(1,7,size = n)\n",
    "    val = collections.Counter(L)\n",
    "    print(val[5],\"/\",len(L))\n",
    "\n",
    "freqEmp(10)\n",
    "freqEmp(100)\n",
    "freqEmp(1000)"
   ],
   "outputs": [
    {
     "output_type": "stream",
     "name": "stdout",
     "text": [
      "2 / 10\n",
      "18 / 100\n",
      "157 / 1000\n"
     ]
    }
   ],
   "metadata": {}
  },
  {
   "cell_type": "markdown",
   "source": [
    "Ex4:\n",
    "\n",
    "Trouvez une fonction qui permette de déﬁnir une matrice et utilisez-la pour construire la matrice\n",
    "\n",
    "$$\n",
    "\\left(\\begin{array}\n",
    "10 & 0 & 3\\\\\n",
    "0 & 5 & 4\\\\\n",
    "3 & 2 & 5\n",
    "\\end{array}\\right)\n",
    "$$ "
   ],
   "metadata": {}
  },
  {
   "cell_type": "code",
   "execution_count": 124,
   "source": [
    "def mat(n, p):\n",
    "    if n <= 0 or p <= 0:\n",
    "        print(\"Erreur, une des valeurs est négative !\")\n",
    "        return\n",
    "    mat = [[0 for j in range (p)]for i in range(n)]\n",
    "\n",
    "    return mat\n",
    "\n",
    "def afficheMat(mat):\n",
    "    for i in range(len(mat)):\n",
    "        print(mat[i])\n",
    "\n",
    "mat = mat(3,3)\n",
    "mat[0][0] = 10\n",
    "mat[0][2] = 3\n",
    "mat[1][1] = 5\n",
    "mat[1][2] = 4\n",
    "mat[2][0] = 3\n",
    "mat[2][1] = 2\n",
    "mat[2][2] = 5\n",
    "print(afficheMat(mat))"
   ],
   "outputs": [
    {
     "output_type": "stream",
     "name": "stdout",
     "text": [
      "[10, 0, 3]\n",
      "[0, 5, 4]\n",
      "[3, 2, 5]\n",
      "None\n"
     ]
    }
   ],
   "metadata": {}
  },
  {
   "cell_type": "code",
   "execution_count": null,
   "source": [],
   "outputs": [],
   "metadata": {}
  }
 ],
 "metadata": {
  "kernelspec": {
   "name": "python3",
   "display_name": "Python 3.8.2 64-bit"
  },
  "language_info": {
   "codemirror_mode": {
    "name": "ipython",
    "version": 3
   },
   "file_extension": ".py",
   "mimetype": "text/x-python",
   "name": "python",
   "nbconvert_exporter": "python",
   "pygments_lexer": "ipython3",
   "version": "3.8.2"
  },
  "interpreter": {
   "hash": "31f2aee4e71d21fbe5cf8b01ff0e069b9275f58929596ceb00d14d90e3e16cd6"
  }
 },
 "nbformat": 4,
 "nbformat_minor": 4
}